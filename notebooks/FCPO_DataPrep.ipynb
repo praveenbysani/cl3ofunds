{
 "cells": [
  {
   "cell_type": "code",
   "execution_count": 1,
   "metadata": {},
   "outputs": [],
   "source": [
    "import pandas as pd\n",
    "import numpy as np"
   ]
  },
  {
   "cell_type": "code",
   "execution_count": 2,
   "metadata": {},
   "outputs": [],
   "source": [
    "import warnings\n",
    "warnings.filterwarnings(\"ignore\")"
   ]
  },
  {
   "cell_type": "code",
   "execution_count": 2,
   "metadata": {},
   "outputs": [],
   "source": [
    "## functions necessary to group the minute level to hours/days\n",
    "def get_first_element(x):\n",
    "    return x.iloc[0]\n",
    "\n",
    "def get_last_element(x):\n",
    "    return x.iloc[len(x)-1]\n",
    "\n",
    "# indicate the indicator as positive when the price is within specified threshold \n",
    "##ranges compared to the open for the long strategy\n",
    "def infer_profit_long_indicator(x,threshold=1.02):\n",
    "    if max(x['next_1high'],x['High']) >= threshold*x['Open']:\n",
    "    #if x['Close'] >= threshold*x['Open']:\n",
    "        return 1\n",
    "    else:\n",
    "        return 0\n",
    "def infer_profit_short_indicator(x,threshold=0.98):\n",
    "    if min(x['next_1low'],x['Low']) <= threshold*x['Open']:\n",
    "    #if x['Close'] <= threshold*x['Open']:\n",
    "        return 1\n",
    "    else:\n",
    "        return 0\n",
    "\n",
    "def compute_long_spread(x):\n",
    "    return round((max(x['next_1high'],x['High'])-x['Open'])/x['Open'],4)*100\n",
    "def compute_short_spread(x):\n",
    "    return round((x['Open']-min(x['next_1low'],x['Low']))/x['Open'],4)*100\n",
    "    \n",
    "def zscore_func_improved(x,window_size=20):\n",
    "    rolling_mean=x.rolling(window=window_size).mean().bfill()\n",
    "    rolling_std = x.rolling(window=window_size).std().bfill()\n",
    "    return (x-rolling_mean)"
   ]
  },
  {
   "cell_type": "markdown",
   "metadata": {},
   "source": [
    "## Preparing FCPO Data"
   ]
  },
  {
   "cell_type": "markdown",
   "metadata": {},
   "source": [
    "### Process Back Adjusted Data"
   ]
  },
  {
   "cell_type": "code",
   "execution_count": 4,
   "metadata": {},
   "outputs": [],
   "source": [
    "#pre-process the data from 2014-2018 csv file\n",
    "fcpo_data_badjusted=pd.read_csv('data/FCPO_2007-2017_backadjusted.csv')\n",
    "\n",
    "#remove identity placeholder columns\n",
    "fcpo_data_badjusted=fcpo_data_badjusted[fcpo_data_badjusted['Time']!=1805]\n",
    "\n",
    "#convert the date time values to string and derive the hour field\n",
    "fcpo_data_badjusted['Date']=fcpo_data_badjusted['Date'].apply(lambda x:str(x))\n",
    "fcpo_data_badjusted['Hour']=fcpo_data_badjusted['Time'].apply(lambda x:str(x)[0:2])\n",
    "\n",
    "fcpo_daily_badjusted=fcpo_data_badjusted.groupby(['Date'],as_index=False).agg({'Open':lambda x: get_first_element(x),\n",
    "                              'High':lambda x:np.max(x),'Low':lambda x:np.min(x),'Close': lambda x:get_last_element(x),'Volume':'sum'})\n",
    "\n",
    "fcpo_daily_badjusted=fcpo_daily_badjusted.set_index(pd.to_datetime(fcpo_daily_badjusted['Date']))\n",
    "fcpo_daily_badjusted=fcpo_daily_badjusted.drop(columns=['Date'])\n",
    "\n",
    "# Compute hourly data frames\n",
    "fcpo_hourly_badjusted=fcpo_data_badjusted.groupby(['Date','Hour'],as_index=False).agg({'Open':lambda x: get_first_element(x),'Close': lambda x:get_last_element(x),\n",
    "                              'High':lambda x:np.max(x),'Low':lambda x:np.min(x),'Volume':'sum'})\n",
    "\n",
    "fcpo_hourly_badjusted=fcpo_hourly_badjusted.set_index(pd.to_datetime(fcpo_hourly_badjusted['Date']+'-'+fcpo_hourly_badjusted['Hour']))\n",
    "fcpo_hourly_badjusted=fcpo_hourly_badjusted.drop(columns=['Date','Hour'])"
   ]
  },
  {
   "cell_type": "code",
   "execution_count": 5,
   "metadata": {},
   "outputs": [],
   "source": [
    "# shift the output of next day into the daily data frame\n",
    "fcpo_daily_badjusted=fcpo_daily_badjusted.assign(\n",
    "                      next_1open=fcpo_daily_badjusted['Open'].shift(-1),\n",
    "                      next_1high=fcpo_daily_badjusted['High'].shift(-1),\n",
    "                      next_1low=fcpo_daily_badjusted['Low'].shift(-1),                      \n",
    "                      next_1close=fcpo_daily_badjusted['Close'].shift(-1),\n",
    "                      prev_1open=fcpo_daily_badjusted['Open'].shift(1), \n",
    "                      prev_1high=fcpo_daily_badjusted['High'].shift(1), \n",
    "                      prev_1low=fcpo_daily_badjusted['Low'].shift(1), \n",
    "                      prev_1close=fcpo_daily_badjusted['Close'].shift(1),                 \n",
    "                      )\n",
    "## infer the profit indicators based on the future closing/high or low  prices\n",
    "# compute the long-profit and short-profit indicators\n",
    "# compute for each day, the open change pct compared to the previoius day\n",
    "# compute for each day, the next day open change pct, compared to current day close (only use for evaluation/validation purposes)\n",
    "fcpo_daily_badjusted=fcpo_daily_badjusted.assign(\n",
    "                            prev_open_change_pct=(fcpo_daily_badjusted['Open']/fcpo_daily_badjusted['prev_1close'])*100-100,\n",
    "                            next_open_change_pct=(fcpo_daily_badjusted['next_1open']/fcpo_daily_badjusted['Close'])*100-100,                   \n",
    "                            lprofit_ind_1pct=fcpo_daily_badjusted.apply(lambda x:infer_profit_long_indicator(x,1.01),axis=1),\n",
    "                            sprofit_ind_1pct=fcpo_daily_badjusted.apply(lambda x:infer_profit_short_indicator(x,0.99),axis=1),\n",
    "                            lprofit_ind_2pct=fcpo_daily_badjusted.apply(lambda x:infer_profit_long_indicator(x,1.02),axis=1),\n",
    "                            sprofit_ind_2pct=fcpo_daily_badjusted.apply(lambda x:infer_profit_short_indicator(x,0.98),axis=1)\n",
    "                            )\n",
    "\n",
    "fcpo_daily_badjusted['prev_open_change_pct']=fcpo_daily_badjusted['prev_open_change_pct'].bfill()"
   ]
  },
  {
   "cell_type": "code",
   "execution_count": 6,
   "metadata": {},
   "outputs": [],
   "source": [
    "#fcpo_data_hourly=fcpo_data_2014_2018_hourly.copy()\n",
    "## infer the profit indicators based on the future closing prices\n",
    "# shift the output of next 3 time periods into the daily data frame\n",
    "fcpo_hourly_badjusted=fcpo_hourly_badjusted.assign(\n",
    "                      next_1high=fcpo_hourly_badjusted['High'].shift(-1),\n",
    "                      next_1low=fcpo_hourly_badjusted['Low'].shift(-1),\n",
    "                      next_1open=fcpo_hourly_badjusted['Open'].shift(-1),\n",
    "                     next_1close=fcpo_hourly_badjusted['Close'].shift(-1),)\n",
    "\n",
    "fcpo_hourly_badjusted=fcpo_hourly_badjusted.assign(lprofit_ind=fcpo_hourly_badjusted.apply(lambda x:infer_profit_long_indicator(x,1.01),axis=1),\n",
    "                                       sprofit_ind=fcpo_hourly_badjusted.apply(lambda x:infer_profit_short_indicator(x,0.99),axis=1))"
   ]
  },
  {
   "cell_type": "markdown",
   "metadata": {},
   "source": [
    "### Process Non-Backadjusted Data"
   ]
  },
  {
   "cell_type": "code",
   "execution_count": 7,
   "metadata": {},
   "outputs": [],
   "source": [
    "fcpo_daily_nadjusted=pd.read_csv('data/fcpo_daily_2018.csv')\n",
    "fcpo_daily_nadjusted=fcpo_daily_nadjusted[['Date','Open','High','Low','Close','Volume']]\n",
    "fcpo_daily_nadjusted=fcpo_daily_nadjusted.set_index(pd.to_datetime(fcpo_daily_nadjusted['Date']))\n",
    "fcpo_daily_nadjusted=fcpo_daily_nadjusted.drop(columns=['Date'])"
   ]
  },
  {
   "cell_type": "code",
   "execution_count": 25,
   "metadata": {},
   "outputs": [],
   "source": [
    "fcpo_daily_nadjusted=fcpo_daily_nadjusted.assign(\n",
    "                      next_1open=fcpo_daily_nadjusted['Open'].shift(-1),\n",
    "                      next_1high=fcpo_daily_nadjusted['High'].shift(-1),\n",
    "                      next_1low=fcpo_daily_nadjusted['Low'].shift(-1),                      \n",
    "                      next_1close=fcpo_daily_nadjusted['Close'].shift(-1),\n",
    "                      prev_1open=fcpo_daily_nadjusted['Open'].shift(1), \n",
    "                      prev_1high=fcpo_daily_nadjusted['High'].shift(1), \n",
    "                      prev_1low=fcpo_daily_nadjusted['Low'].shift(1), \n",
    "                      prev_1close=fcpo_daily_nadjusted['Close'].shift(1),                 \n",
    "                      )\n",
    "## infer the profit indicators based on the future closing/high or low  prices\n",
    "# compute the long-profit and short-profit indicators\n",
    "# compute for each day, the open change pct compared to the previoius day\n",
    "# compute for each day, the next day open change pct, compared to current day close (only use for evaluation/validation purposes)\n",
    "fcpo_daily_nadjusted=fcpo_daily_nadjusted.assign(\n",
    "                            prev_open_change_pct=(fcpo_daily_nadjusted['Open']/fcpo_daily_nadjusted['prev_1close'])*100-100,\n",
    "                            next_open_change_pct=(fcpo_daily_nadjusted['next_1open']/fcpo_daily_nadjusted['Close'])*100-100,                   \n",
    "                            lprofit_ind_2pct=fcpo_daily_nadjusted.apply(lambda x:infer_profit_long_indicator(x,1.02),axis=1),\n",
    "                            sprofit_ind_2pct=fcpo_daily_nadjusted.apply(lambda x:infer_profit_short_indicator(x,0.98),axis=1),\n",
    "                            lprofit_ind=fcpo_daily_nadjusted.apply(lambda x:infer_profit_long_indicator(x,1.0125),axis=1),\n",
    "                            sprofit_ind=fcpo_daily_nadjusted.apply(lambda x:infer_profit_short_indicator(x,0.9875),axis=1),    \n",
    "                            long_spread = fcpo_daily_nadjusted.apply(lambda x: compute_long_spread(x),axis=1),\n",
    "                            short_spread = fcpo_daily_nadjusted.apply(lambda x: compute_short_spread(x),axis=1),\n",
    "                            )\n",
    "fcpo_daily_nadjusted['prev_open_change_pct']=fcpo_daily_nadjusted['prev_open_change_pct'].bfill()"
   ]
  },
  {
   "cell_type": "markdown",
   "metadata": {},
   "source": [
    "## Preparing Dalian Palm oil data"
   ]
  },
  {
   "cell_type": "code",
   "execution_count": 9,
   "metadata": {},
   "outputs": [],
   "source": [
    "palmoil_data=pd.read_excel('data/Dalian Palm Olein 1 Mins_updated.xlsx',skiprows=3)\n",
    "palmoil_data=palmoil_data.drop(0)\n",
    "\n",
    "palmoil_data['Date']=palmoil_data['Dates'].dt.date\n",
    "palmoil_data['Hour']=palmoil_data['Dates'].dt.hour\n",
    "\n",
    "# Compute daily and hourly data frames\n",
    "palmoil_daily=palmoil_data.groupby(['Date'],as_index=False).agg({'Open':lambda x: get_first_element(x),'Close': lambda x:get_last_element(x),\n",
    "                              'High':lambda x:np.max(x),'Low':lambda x:np.min(x),'Volume':'sum'})\n",
    "palmoil_hourly=palmoil_data.groupby(['Date','Hour'],as_index=False).agg({'Open':lambda x: get_first_element(x),'Close': lambda x:get_last_element(x),\n",
    "                              'High':lambda x:np.max(x),'Low':lambda x:np.min(x),'Volume':'sum'})\n",
    "\n",
    "palmoil_daily=palmoil_daily.set_index(pd.to_datetime(palmoil_daily['Date']))"
   ]
  },
  {
   "cell_type": "markdown",
   "metadata": {},
   "source": [
    "### Store the Processed data in HDF5 format for pandas"
   ]
  },
  {
   "cell_type": "code",
   "execution_count": 27,
   "metadata": {},
   "outputs": [],
   "source": [
    "hdf_store=pd.HDFStore('data/processed_dta.h5')\n",
    "\n",
    "hdf_store.put('fcpo_daily_badjusted',fcpo_daily_badjusted)\n",
    "hdf_store.put('fcpo_hourly_badjusted',fcpo_hourly_badjusted)\n",
    "hdf_store.put('fcpo_daily_nadjusted',fcpo_daily_nadjusted)\n",
    "hdf_store.put('palmoil_daily',palmoil_daily)\n",
    "\n",
    "hdf_store.close()"
   ]
  }
 ],
 "metadata": {
  "kernelspec": {
   "display_name": "Python 3",
   "language": "python",
   "name": "python3"
  },
  "language_info": {
   "codemirror_mode": {
    "name": "ipython",
    "version": 3
   },
   "file_extension": ".py",
   "mimetype": "text/x-python",
   "name": "python",
   "nbconvert_exporter": "python",
   "pygments_lexer": "ipython3",
   "version": "3.6.3"
  }
 },
 "nbformat": 4,
 "nbformat_minor": 2
}
