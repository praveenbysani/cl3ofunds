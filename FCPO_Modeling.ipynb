{
 "cells": [
  {
   "cell_type": "code",
   "execution_count": 1,
   "metadata": {},
   "outputs": [],
   "source": [
    "import pandas as pd\n",
    "import numpy as np"
   ]
  },
  {
   "cell_type": "code",
   "execution_count": 2,
   "metadata": {},
   "outputs": [],
   "source": [
    "from sklearn.ensemble import RandomForestClassifier\n",
    "from sklearn.ensemble import GradientBoostingClassifier\n",
    "from sklearn.metrics import roc_auc_score\n",
    "from sklearn.metrics import roc_curve\n",
    "from sklearn.metrics import confusion_matrix\n",
    "from sklearn.metrics import precision_score\n",
    "from sklearn.metrics import recall_score"
   ]
  },
  {
   "cell_type": "code",
   "execution_count": 3,
   "metadata": {},
   "outputs": [],
   "source": [
    "import xgboost\n",
    "from sklearn.model_selection import TimeSeriesSplit\n",
    "from sklearn.model_selection import cross_val_score\n",
    "from sklearn.model_selection import cross_validate\n",
    "from sklearn.model_selection import RandomizedSearchCV"
   ]
  },
  {
   "cell_type": "code",
   "execution_count": 4,
   "metadata": {},
   "outputs": [],
   "source": [
    "import ta\n",
    "import talib\n",
    "from tech_indicators import stoch,stoch_signal"
   ]
  },
  {
   "cell_type": "code",
   "execution_count": 5,
   "metadata": {},
   "outputs": [],
   "source": [
    "import matplotlib.pyplot as plt\n",
    "import seaborn as sns\n",
    "%matplotlib inline"
   ]
  },
  {
   "cell_type": "code",
   "execution_count": 6,
   "metadata": {},
   "outputs": [
    {
     "data": {
      "text/html": [
       "<script>requirejs.config({paths: { 'plotly': ['https://cdn.plot.ly/plotly-latest.min']},});if(!window.Plotly) {{require(['plotly'],function(plotly) {window.Plotly=plotly;});}}</script>"
      ],
      "text/vnd.plotly.v1+html": [
       "<script>requirejs.config({paths: { 'plotly': ['https://cdn.plot.ly/plotly-latest.min']},});if(!window.Plotly) {{require(['plotly'],function(plotly) {window.Plotly=plotly;});}}</script>"
      ]
     },
     "metadata": {},
     "output_type": "display_data"
    }
   ],
   "source": [
    "from plotly.offline import init_notebook_mode, iplot\n",
    "init_notebook_mode(connected=True)\n",
    "import plotly.graph_objs as go\n",
    "import plotly.figure_factory as ff"
   ]
  },
  {
   "cell_type": "code",
   "execution_count": 7,
   "metadata": {},
   "outputs": [],
   "source": [
    "import warnings\n",
    "warnings.filterwarnings(\"ignore\")"
   ]
  },
  {
   "cell_type": "markdown",
   "metadata": {},
   "source": [
    "## Preparing Data \n"
   ]
  },
  {
   "cell_type": "code",
   "execution_count": 7,
   "metadata": {},
   "outputs": [],
   "source": [
    "np.random.seed(999)"
   ]
  },
  {
   "cell_type": "code",
   "execution_count": 8,
   "metadata": {},
   "outputs": [],
   "source": [
    "def zscore_func_improved(x,window_size=20):\n",
    "    rolling_mean=x.rolling(window=window_size).mean().bfill()\n",
    "    rolling_std = x.rolling(window=window_size).std().bfill()\n",
    "    return (x-rolling_mean)/rolling_std"
   ]
  },
  {
   "cell_type": "code",
   "execution_count": 9,
   "metadata": {},
   "outputs": [],
   "source": [
    "fcpo_data_daily=pd.read_hdf('processed_dta.h5','fcpo_data_daily')\n",
    "fcpo_data_hourly=pd.read_hdf('processed_dta.h5','fcpo_data_hourly')\n",
    "fcpo_daily_tind=pd.read_hdf('processed_dta.h5','fcpo_daily_tind')\n",
    "fcpo_daily_cdlind=pd.read_hdf('processed_dta.h5','fcpo_daily_cdlind')"
   ]
  },
  {
   "cell_type": "code",
   "execution_count": 10,
   "metadata": {},
   "outputs": [],
   "source": [
    "fcpo_daily_feats=fcpo_daily_tind.merge(fcpo_daily_cdlind,left_index=True,right_index=True)"
   ]
  },
  {
   "cell_type": "code",
   "execution_count": 124,
   "metadata": {},
   "outputs": [],
   "source": [
    "## using the normalized data for feature engineering\n",
    "#fcpo_data_daily[['Open','High','Low','Close']]=fcpo_data_daily[['Open','High','Low','Close']].apply(lambda x: zscore_func_improved(x))\n",
    "## using the subset of data for training to exclude 2008 oil crisis\n",
    "fcpo_data_daily=fcpo_data_daily['2008-01-01':'2017-01-01']\n",
    "### TODO\n",
    "## use tpot (auto-ml) for the best model of the data\n",
    "## use features generated from previous time stamps\n"
   ]
  },
  {
   "cell_type": "markdown",
   "metadata": {},
   "source": [
    "## Using Prophet for forecasting"
   ]
  },
  {
   "cell_type": "code",
   "execution_count": 10,
   "metadata": {},
   "outputs": [],
   "source": [
    "#from fbprophet import Prophet\n",
    "#prophet_model=Prophet()\n",
    "#prophet_data_df=fcpo_data_daily['Close'].reset_index()\n",
    "#prophet_data_df=prophet_data_df.rename(columns={'Date':'ds','Close':'y'})\n",
    "#prophet_model.fit(prophet_data_df)\n",
    "\n",
    "#prophet_forecast=prophet_model.make_future_dataframe(periods=365)\n",
    "#prophet_forecast=prophet_model.predict(prophet_forecast)\n",
    "#prophet_model.plot(prophet_forecast)"
   ]
  },
  {
   "cell_type": "markdown",
   "metadata": {},
   "source": [
    "## Machine Learning models"
   ]
  },
  {
   "cell_type": "code",
   "execution_count": 11,
   "metadata": {},
   "outputs": [],
   "source": [
    "def build_modeling_data(fcpo_data_daily,fcpo_feats,target_label='lprofit_ind',split_date='2017-01-01'):\n",
    "    fcpo_train=fcpo_feats[:split_date]\n",
    "    fcpo_test = fcpo_feats[split_date:]\n",
    "\n",
    "    fcpo_train=fcpo_train.merge(fcpo_data_daily[['Open','prev_open_change_pct',target_label]],left_index=True,right_index=True)\n",
    "    fcpo_traindata=fcpo_train.iloc[:,0:-1]\n",
    "    fcpo_trainlabels=fcpo_train.iloc[:,-1:]\n",
    "    \n",
    "    fcpo_test=fcpo_test.merge(fcpo_data_daily[['Open','prev_open_change_pct',target_label]],left_index=True,right_index=True)\n",
    "    fcpo_testdata=fcpo_test.iloc[:,0:-1]\n",
    "    fcpo_testlabels=fcpo_test.iloc[:,-1]\n",
    "    return fcpo_traindata,fcpo_trainlabels,fcpo_testdata,fcpo_testlabels"
   ]
  },
  {
   "cell_type": "code",
   "execution_count": 12,
   "metadata": {},
   "outputs": [],
   "source": [
    "def buil_cross_validated_model(ml_model,traindata,trainlabels,tsplit,scoring_metric='roc_auc'):\n",
    "    ml_cval_scores=cross_val_score(ml_model,traindata,np.ravel(trainlabels),\n",
    "                                       scoring=scoring_metric,cv=tsplit)\n",
    "    ml_model.fit(traindata,np.ravel(trainlabels))\n",
    "    return ml_model,ml_cval_scores"
   ]
  },
  {
   "cell_type": "markdown",
   "metadata": {},
   "source": [
    "### Time-series cross validation"
   ]
  },
  {
   "cell_type": "code",
   "execution_count": 13,
   "metadata": {},
   "outputs": [],
   "source": [
    "fcpo_tsplit=TimeSeriesSplit(n_splits=3)"
   ]
  },
  {
   "cell_type": "markdown",
   "metadata": {},
   "source": [
    "### Search for Best fitting parameters"
   ]
  },
  {
   "cell_type": "code",
   "execution_count": 17,
   "metadata": {},
   "outputs": [],
   "source": [
    "## Use the RandomSearch funciton to find the best hyper parameters of Random forrests\n",
    "rf_param_dist = {\"max_features\": [6,12],\n",
    "                  \"min_samples_split\": [2,4,6],\n",
    "                  \"min_samples_leaf\": [1,2,4],\n",
    "                  \"bootstrap\": [True, False],\n",
    "                  \"criterion\": [\"gini\", \"entropy\"]}"
   ]
  },
  {
   "cell_type": "code",
   "execution_count": 157,
   "metadata": {},
   "outputs": [
    {
     "name": "stdout",
     "output_type": "stream",
     "text": [
      "CPU times: user 11 s, sys: 200 ms, total: 11.2 s\n",
      "Wall time: 3min 23s\n"
     ]
    }
   ],
   "source": [
    "%%time\n",
    "rf_lprofit_rsearch=RandomizedSearchCV(RandomForestClassifier(n_estimators=500,max_depth=12,n_jobs=-1),\n",
    "                                      rf_param_dist,cv=fcpo_tsplit,scoring='roc_auc',n_iter=50,n_jobs=-1)\n",
    "\n",
    "rf_lprofit_rsearch=rf_lprofit_rsearch.fit(fcpo_lprofit_traindata,np.ravel(fcpo_lprofit_trainlabels))"
   ]
  },
  {
   "cell_type": "markdown",
   "metadata": {},
   "source": [
    "## Long call trading model "
   ]
  },
  {
   "cell_type": "code",
   "execution_count": 125,
   "metadata": {},
   "outputs": [],
   "source": [
    "fcpo_lprofit_traindata,fcpo_lprofit_trainlabels,fcpo_lprofit_testdata,fcpo_lprofit_testlabels=build_modeling_data(fcpo_data_daily,\n",
    "                                                                                     fcpo_daily_feats,'lprofit_ind_2pct','2015-01-01')"
   ]
  },
  {
   "cell_type": "code",
   "execution_count": 126,
   "metadata": {},
   "outputs": [],
   "source": [
    "### Compute cross-validation scores using time-series splits for a defined configuration ###\n",
    "rf_lprofit= RandomForestClassifier(n_estimators=300,max_depth=20,min_samples_split=2,\n",
    "                                  min_samples_leaf=2,criterion='gini')\n",
    "rf_lprofit,rf_lprofit_cval_scores=buil_cross_validated_model(rf_lprofit,fcpo_lprofit_traindata,fcpo_lprofit_trainlabels,\n",
    "                                                                fcpo_tsplit)\n",
    "\n",
    "rf_lprofit_test_proba=rf_lprofit.predict_proba(fcpo_lprofit_testdata)\n",
    "rf_lprofit_test_predlabels=rf_lprofit.predict(fcpo_lprofit_testdata)"
   ]
  },
  {
   "cell_type": "markdown",
   "metadata": {},
   "source": [
    "#### GBM"
   ]
  },
  {
   "cell_type": "code",
   "execution_count": 127,
   "metadata": {},
   "outputs": [],
   "source": [
    "gbm_lprofit=GradientBoostingClassifier(n_estimators=200,max_depth=20,min_samples_leaf=2,\n",
    "                                       min_samples_split=2,learning_rate=0.05)\n",
    "gbm_lprofit_cval_scores=cross_val_score(gbm_lprofit,fcpo_lprofit_traindata,np.ravel(fcpo_lprofit_trainlabels),\n",
    "                                       scoring='roc_auc',cv=fcpo_tsplit)\n",
    "gbm_lprofit.fit(fcpo_lprofit_traindata,np.ravel(fcpo_lprofit_trainlabels))\n",
    "\n",
    "gbm_lprofit_test_proba=gbm_lprofit.predict_proba(fcpo_lprofit_testdata)\n",
    "gbm_lprofit_test_predlabels=gbm_lprofit.predict(fcpo_lprofit_testdata)"
   ]
  },
  {
   "cell_type": "markdown",
   "metadata": {},
   "source": [
    "### XGBoost"
   ]
  },
  {
   "cell_type": "code",
   "execution_count": 130,
   "metadata": {},
   "outputs": [],
   "source": [
    "xgb_lprofit=xgboost.XGBClassifier(objective='binary:logistic',max_depth=20,n_estimators=300,learning_rate=0.05,gamma=0,\n",
    "                                    subsample=0.8,colsample_bytree=0.8,n_jobs=-1)\n",
    "\n",
    "xgb_lprofit.fit(fcpo_lprofit_traindata,np.ravel(fcpo_lprofit_trainlabels),eval_set=[(fcpo_lprofit_traindata, fcpo_lprofit_trainlabels)],\n",
    "                eval_metric=\"auc\",early_stopping_rounds=10,verbose=False)\n",
    "\n",
    "xgb_lprofit_test_predlabels=xgb_lprofit.predict(fcpo_lprofit_testdata)"
   ]
  },
  {
   "cell_type": "markdown",
   "metadata": {},
   "source": [
    "## Short call trading model "
   ]
  },
  {
   "cell_type": "code",
   "execution_count": 131,
   "metadata": {},
   "outputs": [],
   "source": [
    "fcpo_sprofit_traindata,fcpo_sprofit_trainlabels,fcpo_sprofit_testdata,fcpo_sprofit_testlabels=build_modeling_data(fcpo_data_daily,\n",
    "                                                                                            fcpo_daily_feats,'sprofit_ind_2pct','2015-01-01')"
   ]
  },
  {
   "cell_type": "markdown",
   "metadata": {},
   "source": [
    "#### Random Forrest"
   ]
  },
  {
   "cell_type": "code",
   "execution_count": 132,
   "metadata": {},
   "outputs": [],
   "source": [
    "rf_sprofit= RandomForestClassifier(n_estimators=300,max_depth=20,min_samples_split=4,\n",
    "                                  min_samples_leaf=4,criterion='entropy')\n",
    "rf_sprofit,rf_sprofit_cval_scores=buil_cross_validated_model(rf_sprofit,fcpo_sprofit_traindata,fcpo_sprofit_trainlabels,\n",
    "                                                                fcpo_tsplit)\n",
    "\n",
    "rf_sprofit_test_proba=rf_sprofit.predict_proba(fcpo_sprofit_testdata)\n",
    "rf_sprofit_test_predlabels=rf_sprofit.predict(fcpo_sprofit_testdata)"
   ]
  },
  {
   "cell_type": "markdown",
   "metadata": {},
   "source": [
    "#### GBM "
   ]
  },
  {
   "cell_type": "code",
   "execution_count": 133,
   "metadata": {},
   "outputs": [],
   "source": [
    "gbm_sprofit=GradientBoostingClassifier(n_estimators=200,max_depth=20,min_samples_leaf=2,\n",
    "                                       min_samples_split=2,learning_rate=0.05)\n",
    "gbm_sprofit,gbm_sprofit_cval_scores=buil_cross_validated_model(gbm_sprofit,fcpo_sprofit_traindata,fcpo_sprofit_trainlabels,\n",
    "                                                                fcpo_tsplit)\n",
    "gbm_sprofit_test_proba=gbm_sprofit.predict_proba(fcpo_sprofit_testdata)\n",
    "gbm_sprofit_test_predlabels=gbm_sprofit.predict(fcpo_sprofit_testdata)"
   ]
  },
  {
   "cell_type": "markdown",
   "metadata": {},
   "source": [
    "### XGBoost"
   ]
  },
  {
   "cell_type": "code",
   "execution_count": 134,
   "metadata": {},
   "outputs": [],
   "source": [
    "xgb_sprofit=xgboost.XGBClassifier(objective='reg:logistic',max_depth=20,n_estimators=300,learning_rate=0.05,gamma=0,\n",
    "                                    subsample=0.8,colsample_bytree=0.8,n_jobs=-1)\n",
    "\n",
    "xgb_sprofit.fit(fcpo_sprofit_traindata,np.ravel(fcpo_sprofit_trainlabels),eval_set=[(fcpo_sprofit_traindata, fcpo_sprofit_trainlabels)],\n",
    "                eval_metric=\"auc\",early_stopping_rounds=10,verbose=False)\n",
    "\n",
    "xgb_sprofit_test_predlabels=xgb_sprofit.predict(fcpo_sprofit_testdata)"
   ]
  },
  {
   "cell_type": "markdown",
   "metadata": {},
   "source": [
    "## Evaluation of Models"
   ]
  },
  {
   "cell_type": "markdown",
   "metadata": {},
   "source": [
    "### Precision and Recall"
   ]
  },
  {
   "cell_type": "code",
   "execution_count": 135,
   "metadata": {},
   "outputs": [
    {
     "name": "stdout",
     "output_type": "stream",
     "text": [
      "precision : 0.4, recall: 0.12 auc:0.51\n"
     ]
    }
   ],
   "source": [
    "print(\"precision : {pscore}, recall: {rscore} auc:{auc_score}\".format(pscore=round(precision_score(fcpo_lprofit_testlabels,rf_lprofit_test_predlabels),2),\n",
    "                                                     rscore=round(recall_score(fcpo_lprofit_testlabels,rf_lprofit_test_predlabels),2),\n",
    "                                                     auc_score=round(roc_auc_score(fcpo_lprofit_testlabels,rf_lprofit_test_predlabels),2)))"
   ]
  },
  {
   "cell_type": "code",
   "execution_count": 136,
   "metadata": {},
   "outputs": [
    {
     "name": "stdout",
     "output_type": "stream",
     "text": [
      "precision : 0.43, recall: 0.19 auc:0.53\n"
     ]
    }
   ],
   "source": [
    "print(\"precision : {pscore}, recall: {rscore} auc:{auc_score}\".format(\n",
    "                                        pscore=round(precision_score(fcpo_lprofit_testlabels,gbm_lprofit_test_predlabels),2),\n",
    "                                        rscore=round(recall_score(fcpo_lprofit_testlabels,gbm_lprofit_test_predlabels),2),\n",
    "                                        auc_score=round(roc_auc_score(fcpo_lprofit_testlabels,gbm_lprofit_test_predlabels),2)))"
   ]
  },
  {
   "cell_type": "code",
   "execution_count": 137,
   "metadata": {},
   "outputs": [
    {
     "name": "stdout",
     "output_type": "stream",
     "text": [
      "precision : 0.46, recall: 0.19 auc: 0.54\n"
     ]
    }
   ],
   "source": [
    "print(\"precision : {pscore}, recall: {rscore} auc: {auc_score}\".format(pscore=round(precision_score(fcpo_lprofit_testlabels,xgb_lprofit_test_predlabels),2),\n",
    "                                                      rscore=round(recall_score(fcpo_lprofit_testlabels,xgb_lprofit_test_predlabels),2),\n",
    "                                                     auc_score=round(roc_auc_score(fcpo_lprofit_testlabels,xgb_lprofit_test_predlabels),2)))"
   ]
  },
  {
   "cell_type": "code",
   "execution_count": 138,
   "metadata": {},
   "outputs": [
    {
     "name": "stdout",
     "output_type": "stream",
     "text": [
      "precision : 0.41, recall: 0.12 auc:0.52\n"
     ]
    }
   ],
   "source": [
    "print(\"precision : {pscore}, recall: {rscore} auc:{auc_score}\".format(\n",
    "                                                    pscore=round(precision_score(fcpo_sprofit_testlabels,rf_sprofit_test_predlabels),2),\n",
    "                                                    rscore=round(recall_score(fcpo_sprofit_testlabels,rf_sprofit_test_predlabels),2),\n",
    "                                                    auc_score=round(roc_auc_score(fcpo_sprofit_testlabels,rf_sprofit_test_predlabels),2)))"
   ]
  },
  {
   "cell_type": "code",
   "execution_count": 139,
   "metadata": {},
   "outputs": [
    {
     "name": "stdout",
     "output_type": "stream",
     "text": [
      "precision : 0.37, recall: 0.3  auc:0.53\n"
     ]
    }
   ],
   "source": [
    "print(\"precision : {pscore}, recall: {rscore}  auc:{auc_score}\".format(\n",
    "                                                    pscore=round(precision_score(fcpo_sprofit_testlabels,gbm_sprofit_test_predlabels),2),\n",
    "                                                    rscore=round(recall_score(fcpo_sprofit_testlabels,gbm_sprofit_test_predlabels),2),\n",
    "                                                    auc_score=round(roc_auc_score(fcpo_sprofit_testlabels,gbm_sprofit_test_predlabels),2)))"
   ]
  },
  {
   "cell_type": "code",
   "execution_count": 140,
   "metadata": {},
   "outputs": [
    {
     "name": "stdout",
     "output_type": "stream",
     "text": [
      "precision : 0.4, recall: 0.17 auc:0.52\n"
     ]
    }
   ],
   "source": [
    "print(\"precision : {pscore}, recall: {rscore} auc:{auc_score}\".format(pscore=round(precision_score(fcpo_sprofit_testlabels,xgb_sprofit_test_predlabels),2),\n",
    "                                                      rscore=round(recall_score(fcpo_sprofit_testlabels,xgb_sprofit_test_predlabels),2),\n",
    "                                                     auc_score=round(roc_auc_score(fcpo_sprofit_testlabels,xgb_sprofit_test_predlabels),2)))"
   ]
  },
  {
   "cell_type": "markdown",
   "metadata": {},
   "source": [
    "## Financial Metrics\n",
    "\n",
    "The final objective of this study is to improve the ROI, hence we are focused on creating a score-card to measure the investement metrics to select the final model,\n",
    "\n",
    "- Total Returns\n",
    "- Maximum Drawdown\n",
    "- Number of Wins\n",
    "- Number of Losses\n",
    "\n",
    "**Calculation of Returns**\n",
    "\n",
    "* When the sprofit_indicator is true, then return is (open_price - next_low_price) - (commission_price),\n",
    "* Else when the sprofit_indicator is false, the model waits until the end of the day before selling it hence the return is (open_price - next_close_price) - (commission_price)\n"
   ]
  },
  {
   "cell_type": "code",
   "execution_count": 141,
   "metadata": {},
   "outputs": [],
   "source": [
    "def calculate_short_returns(x,profit_field,pred_field,commission_price,num_units,profit_thr=0.03):\n",
    "    return_myr=0\n",
    "    #when the prediction is zero, the model accumulates no returns\n",
    "    if x[pred_field]==0:\n",
    "        return_myr=0\n",
    "    #when the model makes a prediction\n",
    "    elif x[pred_field]==1:\n",
    "        if x[profit_field]==1:\n",
    "        #when it is correct, sell it off when it reaches max x% profit zone\n",
    "            return_myr=(min((x['Open']-x['Low']),(x['Open']-x['next_1low']),(x['Open']-x['Open']*(1-profit_thr)))*num_units)-commission_price\n",
    "        #when it went wrong, sell it off when it reaches x% loss or wait till it reaches eod\n",
    "        elif x[profit_field]==0:\n",
    "            return_myr=(max((x['Open']-x['next_1close']),(x['Open']-x['Open']*(1+profit_thr)))*num_units)-commission_price\n",
    "    return return_myr\n",
    "\n",
    "def calculate_long_returns(x,profit_field,pred_field,commission_price,num_units,profit_thr=0.03):\n",
    "    return_myr=0\n",
    "    #when the prediction is zero, the model accumulates no returns\n",
    "    if x[pred_field]==0:\n",
    "        return_myr=0\n",
    "    #when the model makes a prediction\n",
    "    elif x[pred_field]==1:\n",
    "        #when it is correct, sell it off when it reaches max x% profit zone\n",
    "        if x[profit_field]==1:\n",
    "            return_myr=(min((x['High']-x['Open']),(x['next_1high']-x['Open']),(x['Open']*(1+profit_thr)-x['Open']))*num_units)-commission_price\n",
    "        #when it went wrong, sell it off when it reaches x% loss or wait till it reaches eod\n",
    "        elif x[profit_field]==0:\n",
    "            return_myr=(max((x['next_1close']-x['Open']),(x['Open']*(1-profit_thr)-x['Open']))*num_units)-commission_price\n",
    "    return return_myr\n",
    "\n",
    "def max_drawdown(X):\n",
    "    mdd = 0\n",
    "    peak = X[0]\n",
    "    mdd_peak=0\n",
    "    mdd_x=0\n",
    "    for x in X:\n",
    "        if x > peak: \n",
    "            peak = x\n",
    "        dd = (peak - x) / peak\n",
    "        if dd > mdd:\n",
    "            mdd = dd\n",
    "            mdd_peak=peak\n",
    "            mdd_x=x\n",
    "    return mdd_peak,mdd_x,mdd "
   ]
  },
  {
   "cell_type": "code",
   "execution_count": 148,
   "metadata": {},
   "outputs": [],
   "source": [
    "fcpo_eval_df=fcpo_data_daily[['Open','High','Low','next_1low','next_1high','next_1close','lprofit_ind_1pct','sprofit_ind_1pct']].merge(\n",
    "    pd.DataFrame(rf_lprofit_test_predlabels,columns=['rf_lprofit_prediction'],index=fcpo_lprofit_testlabels.index),\n",
    "            left_index=True,right_index=True).merge(\n",
    "    pd.DataFrame(gbm_lprofit_test_predlabels,columns=['gbm_lprofit_prediction'],index=fcpo_lprofit_testlabels.index),\n",
    "            left_index=True,right_index=True).merge(\n",
    "    pd.DataFrame(xgb_lprofit_test_predlabels,columns=['xgb_lprofit_prediction'],index=fcpo_lprofit_testlabels.index),\n",
    "            left_index=True,right_index=True).merge(\n",
    "    pd.DataFrame(gbm_sprofit_test_predlabels,columns=['gbm_sprofit_prediction'],index=fcpo_sprofit_testlabels.index),\n",
    "            left_index=True,right_index=True).merge(\n",
    "    pd.DataFrame(rf_sprofit_test_predlabels,columns=['rf_sprofit_prediction'],index=fcpo_sprofit_testlabels.index),\n",
    "            left_index=True,right_index=True).merge(\n",
    "    pd.DataFrame(xgb_sprofit_test_predlabels,columns=['xgb_sprofit_prediction'],index=fcpo_lprofit_testlabels.index),\n",
    "            left_index=True,right_index=True)\n",
    "\n",
    "fcpo_eval_df['lprofit_returns']=fcpo_eval_df.apply(lambda x: calculate_long_returns(x,'lprofit_ind_1pct','xgb_lprofit_prediction',30,25,0.02),axis=1)\n",
    "fcpo_eval_df=fcpo_eval_df.assign(cummulative_lprofit_returns=fcpo_eval_df['lprofit_returns'].cumsum())\n",
    "\n",
    "fcpo_eval_df['sprofit_returns']=fcpo_eval_df.apply(lambda x: calculate_short_returns(x,'sprofit_ind_1pct','xgb_sprofit_prediction',30,25,0.02),axis=1)\n",
    "fcpo_eval_df=fcpo_eval_df.assign(cummulative_sprofit_returns=fcpo_eval_df['sprofit_returns'].cumsum())\n",
    "\n",
    "fcpo_eval_df=fcpo_eval_df.assign(cummulative_lprofit_returns=fcpo_eval_df['cummulative_lprofit_returns']+15000,\n",
    "            cummulative_sprofit_returns=fcpo_eval_df['cummulative_sprofit_returns']+15000)"
   ]
  },
  {
   "cell_type": "code",
   "execution_count": 149,
   "metadata": {},
   "outputs": [
    {
     "data": {
      "text/plain": [
       "<matplotlib.legend.Legend at 0x1a1c740c50>"
      ]
     },
     "execution_count": 149,
     "metadata": {},
     "output_type": "execute_result"
    },
    {
     "data": {
      "image/png": "[encoded data removed]",
      "text/plain": [
       "<Figure size 720x720 with 1 Axes>"
      ]
     },
     "metadata": {},
     "output_type": "display_data"
    }
   ],
   "source": [
    "plt.figure(figsize=(10,10))\n",
    "fcpo_eval_df['2015-01-01':'2017-05-01']['cummulative_lprofit_returns'].plot()\n",
    "fcpo_eval_df['2015-01-01':'2017-05-01']['cummulative_sprofit_returns'].plot()\n",
    "plt.legend()"
   ]
  },
  {
   "cell_type": "code",
   "execution_count": 150,
   "metadata": {},
   "outputs": [
    {
     "data": {
      "text/plain": [
       "(19336.5, 14250.499999999993, 0.2630258836914647)"
      ]
     },
     "execution_count": 150,
     "metadata": {},
     "output_type": "execute_result"
    }
   ],
   "source": [
    "max_drawdown(fcpo_eval_df['2015-01-01':'2017-05-01']['cummulative_lprofit_returns'])"
   ]
  },
  {
   "cell_type": "code",
   "execution_count": 151,
   "metadata": {},
   "outputs": [
    {
     "data": {
      "text/plain": [
       "(27518.500000000015, 20306.000000000007, 0.2620964078710687)"
      ]
     },
     "execution_count": 151,
     "metadata": {},
     "output_type": "execute_result"
    }
   ],
   "source": [
    "max_drawdown(fcpo_eval_df['2015-01-01':'2017-05-01']['cummulative_sprofit_returns'])"
   ]
  }
 ],
 "metadata": {
  "kernelspec": {
   "display_name": "Python 3",
   "language": "python",
   "name": "python3"
  },
  "language_info": {
   "codemirror_mode": {
    "name": "ipython",
    "version": 3
   },
   "file_extension": ".py",
   "mimetype": "text/x-python",
   "name": "python",
   "nbconvert_exporter": "python",
   "pygments_lexer": "ipython3",
   "version": "3.6.5"
  }
 },
 "nbformat": 4,
 "nbformat_minor": 2
}
