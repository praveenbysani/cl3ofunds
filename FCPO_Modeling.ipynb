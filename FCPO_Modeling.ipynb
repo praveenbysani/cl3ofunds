{
 "cells": [
  {
   "cell_type": "code",
   "execution_count": 1,
   "metadata": {},
   "outputs": [],
   "source": [
    "import pandas as pd\n",
    "import numpy as np"
   ]
  },
  {
   "cell_type": "code",
   "execution_count": 1,
   "metadata": {},
   "outputs": [],
   "source": [
    "from sklearn.ensemble import RandomForestClassifier\n",
    "from sklearn.ensemble import GradientBoostingClassifier\n",
    "from sklearn.metrics import roc_auc_score\n",
    "from sklearn.metrics import roc_curve\n",
    "from sklearn.metrics import confusion_matrix"
   ]
  },
  {
   "cell_type": "code",
   "execution_count": 24,
   "metadata": {},
   "outputs": [],
   "source": [
    "from sklearn.model_selection import TimeSeriesSplit\n",
    "from sklearn.model_selection import cross_val_score\n",
    "from sklearn.model_selection import cross_validate\n",
    "\n",
    "from sklearn.model_selection import RandomizedSearchCV"
   ]
  },
  {
   "cell_type": "code",
   "execution_count": 2,
   "metadata": {},
   "outputs": [],
   "source": [
    "import ta\n",
    "import talib\n",
    "from tech_indicators import stoch,stoch_signal"
   ]
  },
  {
   "cell_type": "code",
   "execution_count": 3,
   "metadata": {},
   "outputs": [],
   "source": [
    "import matplotlib.pyplot as plt\n",
    "import seaborn as sns\n",
    "%matplotlib inline"
   ]
  },
  {
   "cell_type": "code",
   "execution_count": 3,
   "metadata": {},
   "outputs": [
    {
     "data": {
      "text/html": [
       "<script>requirejs.config({paths: { 'plotly': ['https://cdn.plot.ly/plotly-latest.min']},});if(!window.Plotly) {{require(['plotly'],function(plotly) {window.Plotly=plotly;});}}</script>"
      ],
      "text/vnd.plotly.v1+html": [
       "<script>requirejs.config({paths: { 'plotly': ['https://cdn.plot.ly/plotly-latest.min']},});if(!window.Plotly) {{require(['plotly'],function(plotly) {window.Plotly=plotly;});}}</script>"
      ]
     },
     "metadata": {},
     "output_type": "display_data"
    }
   ],
   "source": [
    "from plotly.offline import init_notebook_mode, iplot\n",
    "init_notebook_mode(connected=True)\n",
    "import plotly.graph_objs as go\n",
    "import plotly.figure_factory as ff"
   ]
  },
  {
   "cell_type": "markdown",
   "metadata": {},
   "source": [
    "## Preparing Data \n"
   ]
  },
  {
   "cell_type": "code",
   "execution_count": 4,
   "metadata": {},
   "outputs": [],
   "source": [
    "np.random.seed(999)"
   ]
  },
  {
   "cell_type": "code",
   "execution_count": 5,
   "metadata": {},
   "outputs": [],
   "source": [
    "fcpo_data_daily=pd.read_hdf('processed_dta.h5','fcpo_data_daily')\n",
    "fcpo_data_hourly=pd.read_hdf('processed_dta.h5','fcpo_data_hourly')"
   ]
  },
  {
   "cell_type": "code",
   "execution_count": 7,
   "metadata": {},
   "outputs": [],
   "source": [
    "## TODO \n",
    "# normalise the high,low,open and close prices\n",
    "# generate features based on signal crossovers and trend reversals\n",
    "# generate pattern based features using TA-Lib (candlesticks etc)\n",
    "# generate investment evaluation functions"
   ]
  },
  {
   "cell_type": "code",
   "execution_count": 6,
   "metadata": {},
   "outputs": [],
   "source": [
    "def generate_tech_ind(fcpo_df):\n",
    "    fcpo_df_tind=pd.DataFrame({\n",
    "        'ema_slow':ta.trend.ema_slow(fcpo_df['Close'],n_slow=30).bfill(),\n",
    "        'ema_fast':ta.trend.ema_fast(fcpo_df['Close'],n_fast=12).bfill(),\n",
    "        'macd': ta.trend.macd(fcpo_df['Close']).bfill(),\n",
    "        'macd_signal': ta.trend.macd_signal(fcpo_df['Close']).bfill(),\n",
    "        'stoch' : stoch(fcpo_df['High'],fcpo_df['Low'],fcpo_df['Close']).bfill(),\n",
    "        'stoch_signal' : stoch_signal(fcpo_df['High'],fcpo_df['Low'],fcpo_df['Close']).bfill(),\n",
    "        'rsi':ta.momentum.rsi(fcpo_df['Close']).bfill(),\n",
    "        'adx': ta.trend.adx(fcpo_df['High'],fcpo_df['Low'],fcpo_df['Close']).bfill(),\n",
    "        'atr': ta.volatility.average_true_range(fcpo_df['High'],fcpo_df['Low'],fcpo_df['Close']).bfill(),\n",
    "        'find' : ta.volume.force_index(fcpo_df['Close'],fcpo_df['Volume']).bfill(),\n",
    "        'eom': ta.volume.ease_of_movement(fcpo_df['High'],fcpo_df['Low'],fcpo_df['Close'],fcpo_df['Volume'],n=10,fillna=True).bfill()\n",
    "       })\n",
    "    return fcpo_df_tind"
   ]
  },
  {
   "cell_type": "code",
   "execution_count": 7,
   "metadata": {},
   "outputs": [],
   "source": [
    "fcpo_daily_tind=generate_tech_ind(fcpo_data_daily)"
   ]
  },
  {
   "cell_type": "markdown",
   "metadata": {},
   "source": [
    "## Using Prophet for forecasting"
   ]
  },
  {
   "cell_type": "code",
   "execution_count": 10,
   "metadata": {},
   "outputs": [],
   "source": [
    "#from fbprophet import Prophet\n",
    "#prophet_model=Prophet()\n",
    "#prophet_data_df=fcpo_data_daily['Close'].reset_index()\n",
    "#prophet_data_df=prophet_data_df.rename(columns={'Date':'ds','Close':'y'})\n",
    "#prophet_model.fit(prophet_data_df)\n",
    "\n",
    "#prophet_forecast=prophet_model.make_future_dataframe(periods=365)\n",
    "#prophet_forecast=prophet_model.predict(prophet_forecast)\n",
    "#prophet_model.plot(prophet_forecast)"
   ]
  },
  {
   "cell_type": "markdown",
   "metadata": {},
   "source": [
    "## Machine Learning models"
   ]
  },
  {
   "cell_type": "code",
   "execution_count": 8,
   "metadata": {},
   "outputs": [],
   "source": [
    "def build_modeling_data(fcpo_data_daily,fcpo_daily_tind,target_label='lprofit_ind',split_date='2017-01-01'):\n",
    "    fcpo_train=fcpo_daily_tind[:split_date]\n",
    "    fcpo_test = fcpo_daily_tind[split_date:]\n",
    "\n",
    "    fcpo_train=fcpo_train.merge(fcpo_data_daily[['Open','next_open_change_pct',target_label]],left_index=True,right_index=True)\n",
    "    fcpo_traindata=fcpo_train.iloc[:,1:-1]\n",
    "    fcpo_trainlabels=fcpo_train.iloc[:,-1:]\n",
    "    \n",
    "    fcpo_test=fcpo_test.merge(fcpo_data_daily[['Open','next_open_change_pct',target_label]],left_index=True,right_index=True)\n",
    "    fcpo_testdata=fcpo_test.iloc[:,1:-1]\n",
    "    fcpo_testlabels=fcpo_test.iloc[:,-1]\n",
    "    return fcpo_traindata,fcpo_trainlabels,fcpo_testdata,fcpo_testlabels"
   ]
  },
  {
   "cell_type": "markdown",
   "metadata": {},
   "source": [
    "### Long call trading model "
   ]
  },
  {
   "cell_type": "code",
   "execution_count": 48,
   "metadata": {},
   "outputs": [],
   "source": [
    "fcpo_lprofit_traindata,fcpo_lprofit_trainlabels,fcpo_lprofit_testdata,fcpo_lprofit_testlabels=build_modeling_data(fcpo_data_daily,\n",
    "                                                                                                fcpo_daily_tind,'lprofit_ind','2016-01-01')"
   ]
  },
  {
   "cell_type": "markdown",
   "metadata": {},
   "source": [
    "### Time-series cross validation"
   ]
  },
  {
   "cell_type": "code",
   "execution_count": 11,
   "metadata": {},
   "outputs": [],
   "source": [
    "fcpo_tsplit=TimeSeriesSplit(n_splits=5)"
   ]
  },
  {
   "cell_type": "code",
   "execution_count": 61,
   "metadata": {},
   "outputs": [],
   "source": [
    "### Compute cross-validation scores using time-series splits for a defined configuration ###\n",
    "#rf_lprofit= RandomForestClassifier(n_estimators=200,max_depth=12,min_samples_split=4,\n",
    "#                                  min_samples_leaf=3)\n",
    "\n",
    "#rf_lprofit_cval_scores=cross_val_score(rf_lprofit,fcpo_lprofit_traindata,np.ravel(fcpo_lprofit_trainlabels),\n",
    "#                                       scoring='roc_auc',cv=fcpo_tsplit)"
   ]
  },
  {
   "cell_type": "code",
   "execution_count": 82,
   "metadata": {},
   "outputs": [],
   "source": [
    "## Use the RandomSearch funciton to find the best hyper parameters of Random forrests\n",
    "rf_lprofit=RandomForestClassifier()\n",
    "\n",
    "rf_param_dist = {\"n_estimators\" : [50,100,200,500],\n",
    "              \"max_depth\": [3, 10,15],\n",
    "              \"max_features\": [5,10,12],\n",
    "              \"min_samples_split\": [2,4,8],\n",
    "              \"min_samples_leaf\": [1,3,5],\n",
    "              \"bootstrap\": [True, False],\n",
    "              \"criterion\": [\"gini\", \"entropy\"]}\n",
    "\n",
    "rf_lprofit_rsearch=RandomizedSearchCV(rf_lprofit,rf_param_dist,cv=fcpo_tsplit,scoring='roc_auc',\n",
    "                                      n_iter=25,n_jobs=3)"
   ]
  },
  {
   "cell_type": "code",
   "execution_count": 83,
   "metadata": {},
   "outputs": [
    {
     "name": "stdout",
     "output_type": "stream",
     "text": [
      "CPU times: user 2.35 s, sys: 77.6 ms, total: 2.43 s\n",
      "Wall time: 56.3 s\n"
     ]
    },
    {
     "data": {
      "text/plain": [
       "RandomizedSearchCV(cv=TimeSeriesSplit(max_train_size=None, n_splits=5),\n",
       "          error_score='raise',\n",
       "          estimator=RandomForestClassifier(bootstrap=True, class_weight=None, criterion='gini',\n",
       "            max_depth=None, max_features='auto', max_leaf_nodes=None,\n",
       "            min_impurity_decrease=0.0, min_impurity_split=None,\n",
       "            min_samples_leaf=1, min_samples_split=2,\n",
       "            min_weight_fraction_leaf=0.0, n_estimators=10, n_jobs=1,\n",
       "            oob_score=False, random_state=None, verbose=0,\n",
       "            warm_start=False),\n",
       "          fit_params=None, iid=True, n_iter=25, n_jobs=3,\n",
       "          param_distributions={'n_estimators': [50, 100, 200, 500], 'max_depth': [3, 10, 15], 'max_features': [5, 10, 12], 'min_samples_split': [2, 4, 8], 'min_samples_leaf': [1, 3, 5], 'bootstrap': [True, False], 'criterion': ['gini', 'entropy']},\n",
       "          pre_dispatch='2*n_jobs', random_state=None, refit=True,\n",
       "          return_train_score='warn', scoring='precision', verbose=0)"
      ]
     },
     "execution_count": 83,
     "metadata": {},
     "output_type": "execute_result"
    }
   ],
   "source": [
    "%%time\n",
    "rf_lprofit_rsearch.fit(fcpo_lprofit_traindata,np.ravel(fcpo_lprofit_trainlabels))"
   ]
  },
  {
   "cell_type": "code",
   "execution_count": 80,
   "metadata": {},
   "outputs": [
    {
     "data": {
      "text/plain": [
       "{'n_estimators': 500,\n",
       " 'min_samples_split': 8,\n",
       " 'min_samples_leaf': 1,\n",
       " 'max_features': 12,\n",
       " 'max_depth': 15,\n",
       " 'criterion': 'entropy',\n",
       " 'bootstrap': True}"
      ]
     },
     "execution_count": 80,
     "metadata": {},
     "output_type": "execute_result"
    }
   ],
   "source": [
    "rf_lprofit_rsearch.best_params_"
   ]
  },
  {
   "cell_type": "code",
   "execution_count": 85,
   "metadata": {},
   "outputs": [
    {
     "data": {
      "text/plain": [
       "0.6826393985934135"
      ]
     },
     "execution_count": 85,
     "metadata": {},
     "output_type": "execute_result"
    }
   ],
   "source": [
    "rf_lprofit_rsearch.best_score_"
   ]
  },
  {
   "cell_type": "code",
   "execution_count": 86,
   "metadata": {},
   "outputs": [],
   "source": [
    "rf_lprofit_test_proba=rf_lprofit_rsearch.predict_proba(fcpo_lprofit_testdata)\n",
    "rf_lprofit_test_predlabels=rf_lprofit_rsearch.predict(fcpo_lprofit_testdata)"
   ]
  },
  {
   "cell_type": "markdown",
   "metadata": {},
   "source": [
    "### Gradient Boosting"
   ]
  },
  {
   "cell_type": "code",
   "execution_count": 42,
   "metadata": {},
   "outputs": [],
   "source": [
    "gbm_lprofit=GradientBoostingClassifier(n_estimators=150,max_depth=15,min_samples_leaf=3,\n",
    "                                       min_samples_split=3,learning_rate=0.1)\n",
    "\n",
    "gbm_lprofit_cval_scores=cross_val_score(gbm_lprofit,fcpo_lprofit_traindata,np.ravel(fcpo_lprofit_trainlabels),\n",
    "                                       scoring='roc_auc',cv=fcpo_tsplit)\n",
    "\n",
    "gbm_lprofit.fit(fcpo_lprofit_traindata,np.ravel(fcpo_lprofit_trainlabels))\n",
    "\n",
    "gbm_lprofit_test_proba=gbm_lprofit.predict_proba(fcpo_lprofit_testdata)\n",
    "gbm_lprofit_test_predlabels=gbm_lprofit.predict(fcpo_lprofit_testdata)"
   ]
  },
  {
   "cell_type": "markdown",
   "metadata": {},
   "source": [
    "### Short call trading model "
   ]
  },
  {
   "cell_type": "code",
   "execution_count": 17,
   "metadata": {},
   "outputs": [],
   "source": [
    "fcpo_sprofit_traindata,fcpo_sprofit_trainlabels,fcpo_sprofit_testdata,fcpo_sprofit_testlabels=build_modeling_data(fcpo_data_daily,fcpo_daily_tind,'sprofit_ind','2016-01-01')"
   ]
  },
  {
   "cell_type": "code",
   "execution_count": 18,
   "metadata": {},
   "outputs": [
    {
     "data": {
      "text/plain": [
       "RandomForestClassifier(bootstrap=True, class_weight=None, criterion='gini',\n",
       "            max_depth=12, max_features='auto', max_leaf_nodes=None,\n",
       "            min_impurity_decrease=0.0, min_impurity_split=None,\n",
       "            min_samples_leaf=2, min_samples_split=2,\n",
       "            min_weight_fraction_leaf=0.0, n_estimators=200, n_jobs=1,\n",
       "            oob_score=False, random_state=None, verbose=0,\n",
       "            warm_start=False)"
      ]
     },
     "execution_count": 18,
     "metadata": {},
     "output_type": "execute_result"
    }
   ],
   "source": [
    "rf_sprofit= RandomForestClassifier(n_estimators=200,max_depth=12,min_samples_split=2,\n",
    "                                  min_samples_leaf=2)\n",
    "rf_sprofit.fit(fcpo_sprofit_traindata,np.ravel(fcpo_sprofit_trainlabels))"
   ]
  },
  {
   "cell_type": "code",
   "execution_count": 19,
   "metadata": {},
   "outputs": [],
   "source": [
    "rf_sprofit_test_proba=rf_sprofit.predict_proba(fcpo_sprofit_testdata)\n",
    "rf_sprofit_test_predlabels=rf_sprofit.predict(fcpo_sprofit_testdata)"
   ]
  },
  {
   "cell_type": "code",
   "execution_count": 20,
   "metadata": {},
   "outputs": [
    {
     "data": {
      "text/plain": [
       "GradientBoostingClassifier(criterion='friedman_mse', init=None,\n",
       "              learning_rate=0.1, loss='deviance', max_depth=15,\n",
       "              max_features=None, max_leaf_nodes=None,\n",
       "              min_impurity_decrease=0.0, min_impurity_split=None,\n",
       "              min_samples_leaf=3, min_samples_split=3,\n",
       "              min_weight_fraction_leaf=0.0, n_estimators=150,\n",
       "              presort='auto', random_state=None, subsample=1.0, verbose=0,\n",
       "              warm_start=False)"
      ]
     },
     "execution_count": 20,
     "metadata": {},
     "output_type": "execute_result"
    }
   ],
   "source": [
    "gbm_sprofit=GradientBoostingClassifier(n_estimators=150,max_depth=15,min_samples_leaf=3,\n",
    "                                       min_samples_split=3,learning_rate=0.1)\n",
    "gbm_sprofit.fit(fcpo_sprofit_traindata,np.ravel(fcpo_sprofit_trainlabels))"
   ]
  },
  {
   "cell_type": "code",
   "execution_count": 21,
   "metadata": {},
   "outputs": [],
   "source": [
    "gbm_sprofit_test_proba=gbm_sprofit.predict_proba(fcpo_sprofit_testdata)\n",
    "gbm_sprofit_test_predlabels=gbm_sprofit.predict(fcpo_sprofit_testdata)"
   ]
  },
  {
   "cell_type": "markdown",
   "metadata": {},
   "source": [
    "## Evaluation of Models"
   ]
  },
  {
   "cell_type": "markdown",
   "metadata": {},
   "source": [
    "### AUC and Confusion Matrix"
   ]
  },
  {
   "cell_type": "code",
   "execution_count": 87,
   "metadata": {},
   "outputs": [
    {
     "data": {
      "text/plain": [
       "0.6991033755274262"
      ]
     },
     "execution_count": 87,
     "metadata": {},
     "output_type": "execute_result"
    }
   ],
   "source": [
    "roc_auc_score(fcpo_lprofit_testlabels,rf_lprofit_test_predlabels)"
   ]
  },
  {
   "cell_type": "code",
   "execution_count": 88,
   "metadata": {},
   "outputs": [
    {
     "data": {
      "text/plain": [
       "array([[119,  49],\n",
       "       [ 49, 109]])"
      ]
     },
     "execution_count": 88,
     "metadata": {},
     "output_type": "execute_result"
    }
   ],
   "source": [
    "confusion_matrix(fcpo_lprofit_testlabels,rf_lprofit_test_predlabels)"
   ]
  },
  {
   "cell_type": "code",
   "execution_count": 45,
   "metadata": {},
   "outputs": [
    {
     "data": {
      "text/plain": [
       "0.6525768535262206"
      ]
     },
     "execution_count": 45,
     "metadata": {},
     "output_type": "execute_result"
    }
   ],
   "source": [
    "roc_auc_score(fcpo_lprofit_testlabels,gbm_lprofit_test_predlabels)"
   ]
  },
  {
   "cell_type": "code",
   "execution_count": 46,
   "metadata": {},
   "outputs": [
    {
     "data": {
      "text/plain": [
       "array([[114,  54],\n",
       "       [ 59,  99]])"
      ]
     },
     "execution_count": 46,
     "metadata": {},
     "output_type": "execute_result"
    }
   ],
   "source": [
    "confusion_matrix(fcpo_lprofit_testlabels,gbm_lprofit_test_predlabels)"
   ]
  },
  {
   "cell_type": "code",
   "execution_count": null,
   "metadata": {},
   "outputs": [],
   "source": [
    "roc_auc_score(fcpo_sprofit_testlabels,rf_sprofit_test_predlabels)"
   ]
  },
  {
   "cell_type": "code",
   "execution_count": 27,
   "metadata": {},
   "outputs": [
    {
     "data": {
      "text/plain": [
       "array([[116,  48],\n",
       "       [ 46, 116]])"
      ]
     },
     "execution_count": 27,
     "metadata": {},
     "output_type": "execute_result"
    }
   ],
   "source": [
    "confusion_matrix(fcpo_sprofit_testlabels,rf_sprofit_test_predlabels)"
   ]
  },
  {
   "cell_type": "code",
   "execution_count": 28,
   "metadata": {},
   "outputs": [
    {
     "data": {
      "text/plain": [
       "0.6839054501656128"
      ]
     },
     "execution_count": 28,
     "metadata": {},
     "output_type": "execute_result"
    }
   ],
   "source": [
    "roc_auc_score(fcpo_sprofit_testlabels,gbm_sprofit_test_predlabels)"
   ]
  },
  {
   "cell_type": "code",
   "execution_count": 29,
   "metadata": {},
   "outputs": [
    {
     "data": {
      "text/plain": [
       "array([[116,  48],\n",
       "       [ 55, 107]])"
      ]
     },
     "execution_count": 29,
     "metadata": {},
     "output_type": "execute_result"
    }
   ],
   "source": [
    "confusion_matrix(fcpo_sprofit_testlabels,gbm_sprofit_test_predlabels)"
   ]
  },
  {
   "cell_type": "markdown",
   "metadata": {},
   "source": [
    "## Financial Metrics\n",
    "\n",
    "The final objective of this study is to improve the ROI, hence we are focused on creating a score-card to measure the investement metrics to select the final model,\n",
    "\n",
    "- Total Returns\n",
    "- Maximum Drawdown\n",
    "- Number of Wins\n",
    "- Number of Losses\n",
    "\n",
    "**Calculation of Returns**\n",
    "\n",
    "* When the sprofit_indicator is true, then return is (open_price - next_low_price) - (commission_price),\n",
    "* Else when the sprofit_indicator is false, the model waits until the end of the day before selling it hence the return is (open_price - next_close_price) - (commission_price)\n"
   ]
  },
  {
   "cell_type": "code",
   "execution_count": 30,
   "metadata": {},
   "outputs": [],
   "source": [
    "def calculate_short_returns(x,pred_field,commission_price,num_units):\n",
    "    return_myr=0\n",
    "    #when the prediction is zero, the model accumulates no returns\n",
    "    if x[pred_field]==0:\n",
    "        return_myr=0\n",
    "    #when the model makes a prediction\n",
    "    elif x[pred_field]==1:\n",
    "        if x['sprofit_ind']==1:\n",
    "        #when it is correct, sell it off when it reaches max x% profit zone\n",
    "            return_myr=(min((x['Open']-x['next_1low']),(x['Open']-x['Open']*0.98))*num_units)-commission_price\n",
    "        #when it went wrong, sell it off when it reaches x% loss or wait till it reaches eod\n",
    "        elif x['sprofit_ind']==0:\n",
    "            return_myr=(max((x['Open']-x['next_1close']),(x['Open']-x['Open']*1.02))*num_units)-commission_price\n",
    "    return return_myr\n",
    "\n",
    "def calculate_long_returns(x,pred_field,commission_price,num_units):\n",
    "    return_myr=0\n",
    "    #when the prediction is zero, the model accumulates no returns\n",
    "    if x[pred_field]==0:\n",
    "        return_myr=0\n",
    "    #when the model makes a prediction\n",
    "    elif x[pred_field]==1:\n",
    "        #when it is correct, sell it off when it reaches max x% profit zone\n",
    "        if x['lprofit_ind']==1:\n",
    "            return_myr=(min((x['next_1high']-x['Open']),(x['Open']*1.02-x['Open']))*num_units)-commission_price\n",
    "        #when it went wrong, sell it off when it reaches x% loss or wait till it reaches eod\n",
    "        elif x['lprofit_ind']==0:\n",
    "            return_myr=(max((x['next_1close']-x['Open']),(x['Open']*0.98-x['Open']))*num_units)-commission_price\n",
    "    return return_myr\n",
    "\n",
    "def max_drawdown(X):\n",
    "    mdd = 0\n",
    "    peak = X[0]\n",
    "    mdd_peak=0\n",
    "    mdd_x=0\n",
    "    for x in X:\n",
    "        if x > peak: \n",
    "            peak = x\n",
    "        dd = (peak - x) / peak\n",
    "        if dd > mdd:\n",
    "            mdd = dd\n",
    "            mdd_peak=peak\n",
    "            mdd_x=x\n",
    "    return mdd_peak,mdd_x,mdd "
   ]
  },
  {
   "cell_type": "code",
   "execution_count": 71,
   "metadata": {},
   "outputs": [],
   "source": [
    "fcpo_eval_df=fcpo_data_daily[['Open','next_1low','next_1high','next_1close','lprofit_ind','sprofit_ind']].merge(\n",
    "    pd.DataFrame(rf_lprofit_test_predlabels,columns=['rf_lprofit_prediction'],index=fcpo_lprofit_testlabels.index),\n",
    "            left_index=True,right_index=True).merge(\n",
    "    pd.DataFrame(gbm_lprofit_test_predlabels,columns=['gbm_lprofit_prediction'],index=fcpo_lprofit_testlabels.index),\n",
    "            left_index=True,right_index=True).merge(\n",
    "    pd.DataFrame(gbm_sprofit_test_predlabels,columns=['gbm_sprofit_prediction'],index=fcpo_sprofit_testlabels.index),\n",
    "            left_index=True,right_index=True).merge(\n",
    "    pd.DataFrame(rf_sprofit_test_predlabels,columns=['rf_sprofit_prediction'],index=fcpo_sprofit_testlabels.index),\n",
    "            left_index=True,right_index=True)"
   ]
  },
  {
   "cell_type": "code",
   "execution_count": 72,
   "metadata": {},
   "outputs": [],
   "source": [
    "fcpo_eval_df['sprofit_returns']=fcpo_eval_df.apply(lambda x: calculate_short_returns(x,'rf_sprofit_prediction',0,1),axis=1)\n",
    "fcpo_eval_df=fcpo_eval_df.assign(cummulative_sprofit_returns=fcpo_eval_df['sprofit_returns'].cumsum())"
   ]
  },
  {
   "cell_type": "code",
   "execution_count": 73,
   "metadata": {},
   "outputs": [],
   "source": [
    "fcpo_eval_df['lprofit_returns']=fcpo_eval_df.apply(lambda x: calculate_long_returns(x,'rf_lprofit_prediction',0,1),axis=1)\n",
    "fcpo_eval_df=fcpo_eval_df.assign(cummulative_lprofit_returns=fcpo_eval_df['lprofit_returns'].cumsum())"
   ]
  },
  {
   "cell_type": "code",
   "execution_count": 74,
   "metadata": {},
   "outputs": [],
   "source": [
    "fcpo_eval_df=fcpo_eval_df.assign(cummulative_lprofit_returns=fcpo_eval_df['cummulative_lprofit_returns']+2500,\n",
    "            cummulative_sprofit_returns=fcpo_eval_df['cummulative_sprofit_returns']+2500)"
   ]
  },
  {
   "cell_type": "code",
   "execution_count": 75,
   "metadata": {},
   "outputs": [
    {
     "data": {
      "text/plain": [
       "<matplotlib.legend.Legend at 0x1a21346c50>"
      ]
     },
     "execution_count": 75,
     "metadata": {},
     "output_type": "execute_result"
    },
    {
     "data": {
      "image/png": "[encoded data removed]",
      "text/plain": [
       "<Figure size 720x720 with 1 Axes>"
      ]
     },
     "metadata": {},
     "output_type": "display_data"
    }
   ],
   "source": [
    "plt.figure(figsize=(10,10))\n",
    "fcpo_eval_df['2016-01-01':'2017-01-01']['cummulative_sprofit_returns'].plot()\n",
    "fcpo_eval_df['2016-01-01':'2017-01-01']['cummulative_lprofit_returns'].plot()\n",
    "plt.legend()"
   ]
  },
  {
   "cell_type": "code",
   "execution_count": 76,
   "metadata": {},
   "outputs": [
    {
     "data": {
      "text/plain": [
       "(3253.2000000000007, 3177.7000000000007, 0.02320791835730972)"
      ]
     },
     "execution_count": 76,
     "metadata": {},
     "output_type": "execute_result"
    }
   ],
   "source": [
    "max_drawdown(fcpo_eval_df['2016-01-01':'2017-01-01']['cummulative_lprofit_returns'])"
   ]
  },
  {
   "cell_type": "code",
   "execution_count": 77,
   "metadata": {},
   "outputs": [
    {
     "data": {
      "text/plain": [
       "(2624.48, 2519.02, 0.04018319819545207)"
      ]
     },
     "execution_count": 77,
     "metadata": {},
     "output_type": "execute_result"
    }
   ],
   "source": [
    "max_drawdown(fcpo_eval_df['2016-01-01':'2017-01-01']['cummulative_sprofit_returns'])"
   ]
  },
  {
   "cell_type": "code",
   "execution_count": null,
   "metadata": {},
   "outputs": [],
   "source": []
  }
 ],
 "metadata": {
  "kernelspec": {
   "display_name": "Python 3",
   "language": "python",
   "name": "python3"
  },
  "language_info": {
   "codemirror_mode": {
    "name": "ipython",
    "version": 3
   },
   "file_extension": ".py",
   "mimetype": "text/x-python",
   "name": "python",
   "nbconvert_exporter": "python",
   "pygments_lexer": "ipython3",
   "version": "3.6.5"
  }
 },
 "nbformat": 4,
 "nbformat_minor": 2
}
