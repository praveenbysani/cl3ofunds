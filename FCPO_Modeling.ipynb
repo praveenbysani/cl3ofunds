{
 "cells": [
  {
   "cell_type": "code",
   "execution_count": null,
   "metadata": {},
   "outputs": [],
   "source": [
    "import warnings\n",
    "warnings.filterwarnings(\"ignore\")"
   ]
  },
  {
   "cell_type": "code",
   "execution_count": null,
   "metadata": {},
   "outputs": [],
   "source": [
    "import pandas as pd\n",
    "import numpy as np"
   ]
  },
  {
   "cell_type": "code",
   "execution_count": null,
   "metadata": {},
   "outputs": [],
   "source": [
    "from sklearn.ensemble import RandomForestClassifier\n",
    "from sklearn.ensemble import GradientBoostingClassifier\n",
    "from sklearn.metrics import roc_auc_score\n",
    "from sklearn.metrics import roc_curve\n",
    "from sklearn.metrics import confusion_matrix\n",
    "from sklearn.metrics import precision_score\n",
    "from sklearn.metrics import recall_score"
   ]
  },
  {
   "cell_type": "code",
   "execution_count": null,
   "metadata": {},
   "outputs": [],
   "source": [
    "import xgboost\n",
    "from sklearn.model_selection import TimeSeriesSplit\n",
    "from sklearn.model_selection import cross_val_score\n",
    "from sklearn.model_selection import cross_validate\n",
    "from sklearn.model_selection import RandomizedSearchCV"
   ]
  },
  {
   "cell_type": "code",
   "execution_count": null,
   "metadata": {},
   "outputs": [],
   "source": [
    "import matplotlib.pyplot as plt\n",
    "import seaborn as sns\n",
    "%matplotlib inline\n",
    "\n",
    "from plotly.offline import init_notebook_mode, iplot\n",
    "init_notebook_mode(connected=True)\n",
    "import plotly.graph_objs as go\n",
    "import plotly.figure_factory as ff"
   ]
  },
  {
   "cell_type": "code",
   "execution_count": null,
   "metadata": {},
   "outputs": [],
   "source": [
    "import shap\n",
    "shap.initjs()"
   ]
  },
  {
   "cell_type": "code",
   "execution_count": null,
   "metadata": {},
   "outputs": [],
   "source": [
    "import random\n",
    "random.seed(999)\n",
    "np.random.seed(999)"
   ]
  },
  {
   "cell_type": "code",
   "execution_count": null,
   "metadata": {},
   "outputs": [],
   "source": [
    "def build_modeling_data(fcpo_data_daily,fcpo_feats,target_label='lprofit_ind',\n",
    "                        train_start='2015-01-01',train_end='2017-12-31',test_start='2018-01-01',test_end='2018-10-01'):\n",
    "    fcpo_train=fcpo_feats[train_start:train_end]\n",
    "    fcpo_test = fcpo_feats[test_start:test_end]\n",
    "\n",
    "    fcpo_train=fcpo_train.merge(fcpo_data_daily[['Open','prev_open_change_pct',target_label]],left_index=True,right_index=True)\n",
    "    fcpo_traindata=fcpo_train.iloc[:,0:-1]\n",
    "    fcpo_trainlabels=fcpo_train.iloc[:,-1:]\n",
    "    \n",
    "    fcpo_test=fcpo_test.merge(fcpo_data_daily[['Open','prev_open_change_pct',target_label]],left_index=True,right_index=True)\n",
    "    fcpo_testdata=fcpo_test.iloc[:,0:-1]\n",
    "    fcpo_testlabels=fcpo_test.iloc[:,-1]\n",
    "    return fcpo_traindata,fcpo_trainlabels,fcpo_testdata,fcpo_testlabels\n",
    "\n",
    "def buil_cross_validated_model(ml_model,traindata,trainlabels,tsplit,scoring_metric='roc_auc'):\n",
    "    ml_cval_scores=cross_val_score(ml_model,traindata,np.ravel(trainlabels),\n",
    "                                       scoring=scoring_metric,cv=tsplit)\n",
    "    ml_model.fit(traindata,np.ravel(trainlabels))\n",
    "    return ml_model,ml_cval_scores\n",
    "\n",
    "def derive_classification_labels(x,threshold=85):\n",
    "    clf_thr=np.percentile(x[:,1],q=threshold)\n",
    "    clf_labels=list(map(lambda x: 1 if x > clf_thr else 0, x[:,1]))\n",
    "    return clf_labels\n",
    "\n",
    "def zscore_func_improved(x,window_size=20):\n",
    "    rolling_mean=x.rolling(window=window_size).mean().bfill()\n",
    "    rolling_std = x.rolling(window=window_size).std().bfill()\n",
    "    return (x-rolling_mean)"
   ]
  },
  {
   "cell_type": "markdown",
   "metadata": {},
   "source": [
    "## Loading Preprocessed Data \n"
   ]
  },
  {
   "cell_type": "code",
   "execution_count": null,
   "metadata": {},
   "outputs": [],
   "source": [
    "fcpo_daily_badjusted=pd.read_hdf('data/processed_dta.h5','fcpo_daily_badjusted')\n",
    "fcpo_hourly_badjusted=pd.read_hdf('data/processed_dta.h5','fcpo_hourly_badjusted')\n",
    "fcpo_badjusted_tind=pd.read_hdf('data/processed_dta.h5','fcpo_badjusted_tind')\n",
    "fcpo_badjusted_cdlind=pd.read_hdf('data/processed_dta.h5','fcpo_badjusted_cdlind')\n",
    "fcpo_badjusted_cind = pd.read_hdf('data/processed_dta.h5','fcpo_badjusted_cind')\n",
    "\n",
    "fcpo_badjusted_feats=fcpo_badjusted_tind.merge(fcpo_badjusted_cdlind,left_index=True,right_index=True).merge(\n",
    "                                                    fcpo_badjusted_cind,left_index=True,right_index=True)\n",
    "#fcpo_data_daily[['Open','High','Low','Close']]=fcpo_data_daily[['Open','High','Low','Close']].apply(lambda x: zscore_func_improved(x))\n",
    "## using the subset of data for training to exclude 2008 oil crisis\n",
    "fcpo_badjusted_feats=fcpo_badjusted_feats['2008-01-01':'2017-01-01']"
   ]
  },
  {
   "cell_type": "code",
   "execution_count": null,
   "metadata": {},
   "outputs": [],
   "source": [
    "## read the non back-adjusted data\n",
    "fcpo_daily_nadjusted=pd.read_hdf('data/processed_dta.h5','fcpo_daily_nadjusted')\n",
    "fcpo_nadjusted_tind=pd.read_hdf('data/processed_dta.h5','fcpo_nadjusted_tind')\n",
    "fcpo_nadjusted_cdlind=pd.read_hdf('data/processed_dta.h5','fcpo_nadjusted_cdlind')\n",
    "\n",
    "fcpo_nadjusted_feats=fcpo_nadjusted_tind.merge(fcpo_nadjusted_cdlind,left_index=True,right_index=True)\n",
    "fcpo_nadjusted_feats=fcpo_nadjusted_feats['2011-01-01':'2018-10-01']"
   ]
  },
  {
   "cell_type": "markdown",
   "metadata": {},
   "source": [
    "## Machine Learning models"
   ]
  },
  {
   "cell_type": "markdown",
   "metadata": {},
   "source": [
    "### Time-series cross validation"
   ]
  },
  {
   "cell_type": "code",
   "execution_count": null,
   "metadata": {},
   "outputs": [],
   "source": [
    "fcpo_tsplit=TimeSeriesSplit(n_splits=3)"
   ]
  },
  {
   "cell_type": "markdown",
   "metadata": {},
   "source": [
    "### Long call trading model "
   ]
  },
  {
   "cell_type": "code",
   "execution_count": null,
   "metadata": {},
   "outputs": [],
   "source": [
    "fcpo_lprofit_traindata,fcpo_lprofit_trainlabels,fcpo_lprofit_testdata,fcpo_lprofit_testlabels=build_modeling_data(\n",
    "                                fcpo_daily_nadjusted,fcpo_nadjusted_feats,'lprofit_ind','2015-01-01','2017-12-31','2018-01-01','2019-01-01')"
   ]
  },
  {
   "cell_type": "markdown",
   "metadata": {},
   "source": [
    "## Auto ML Pipeline"
   ]
  },
  {
   "cell_type": "code",
   "execution_count": null,
   "metadata": {},
   "outputs": [],
   "source": [
    "from sklearn.decomposition import FastICA\n",
    "from sklearn.feature_selection import SelectPercentile, f_classif\n",
    "from sklearn.pipeline import make_pipeline"
   ]
  },
  {
   "cell_type": "code",
   "execution_count": null,
   "metadata": {},
   "outputs": [],
   "source": [
    "lprofit_pipeline = make_pipeline(\n",
    "    FastICA(tol=0.2),\n",
    "    SelectPercentile(score_func=f_classif, percentile=37),\n",
    "    RandomForestClassifier(bootstrap=True, criterion=\"entropy\", max_features=0.1, min_samples_leaf=9, min_samples_split=20, \n",
    "                           n_estimators=100,random_state=333)\n",
    ")"
   ]
  },
  {
   "cell_type": "code",
   "execution_count": null,
   "metadata": {},
   "outputs": [],
   "source": [
    "lprofit_pipeline.fit(fcpo_lprofit_traindata,np.ravel(fcpo_lprofit_trainlabels))\n",
    "\n",
    "tpot_lprofit_test_predlabels=lprofit_pipeline.predict(fcpo_lprofit_testdata)\n",
    "tpot_lprofit_test_proba=lprofit_pipeline.predict_proba(fcpo_lprofit_testdata)"
   ]
  },
  {
   "cell_type": "markdown",
   "metadata": {},
   "source": [
    "### Random Search for Best Hyper Parameters"
   ]
  },
  {
   "cell_type": "code",
   "execution_count": null,
   "metadata": {},
   "outputs": [],
   "source": [
    "## Use the RandomSearch funciton to find the best hyper parameters of Random forrests\n",
    "rf_param_dist = {\"max_depth\": [5,10,20],\n",
    "                  \"min_samples_split\": [2,4,6],\n",
    "                  \"min_samples_leaf\": [1,2,4],\n",
    "                  \"bootstrap\": [True, False],\n",
    "                  \"criterion\": [\"gini\", \"entropy\"]}\n",
    "\n",
    "xgb_param_dist={\"n_estimators\": [200,300,500],\n",
    "                \"max_depth\": [5,10,20],\n",
    "                \"learning_rate\": [0.01,0.05,0.1],\n",
    "                \"gamma\": [0,0.01,0.05],\n",
    "                \"subsample\": [0.5,0.8,1],\n",
    "                \"colsample_bytree\": [0.5,0.8,1]  \n",
    "}"
   ]
  },
  {
   "cell_type": "code",
   "execution_count": null,
   "metadata": {},
   "outputs": [],
   "source": [
    "%%time\n",
    "rf_lprofit_rsearch=RandomizedSearchCV(RandomForestClassifier(random_state=333,n_jobs=-1),\n",
    "                                      rf_param_dist,cv=fcpo_tsplit,scoring='roc_auc',n_iter=100,n_jobs=-1)\n",
    "\n",
    "rf_lprofit_rsearch=rf_lprofit_rsearch.fit(fcpo_lprofit_traindata,np.ravel(fcpo_lprofit_trainlabels))"
   ]
  },
  {
   "cell_type": "code",
   "execution_count": null,
   "metadata": {},
   "outputs": [],
   "source": [
    "%%time\n",
    "xgb_lprofit_rsearch=RandomizedSearchCV(xgboost.XGBClassifier(random_state=333),\n",
    "                                      xgb_param_dist,cv=fcpo_tsplit,scoring='roc_auc',n_iter=100,n_jobs=-1)\n",
    "\n",
    "xgb_lprofit_rsearch=xgb_lprofit_rsearch.fit(fcpo_lprofit_traindata,np.ravel(fcpo_lprofit_trainlabels))"
   ]
  },
  {
   "cell_type": "markdown",
   "metadata": {},
   "source": [
    "#### Random Forrest"
   ]
  },
  {
   "cell_type": "code",
   "execution_count": null,
   "metadata": {},
   "outputs": [],
   "source": [
    "### Compute cross-validation scores using time-series splits for a defined configuration ###\n",
    "\n",
    "#rf_lprofit= RandomForestClassifier(n_estimators=300,max_depth=20,min_samples_split=2,\n",
    "#                                  min_samples_leaf=2,criterion='gini',random_state=333)\n",
    "#rf_lprofit,rf_lprofit_cval_scores=buil_cross_validated_model(rf_lprofit,fcpo_lprofit_traindata,fcpo_lprofit_trainlabels,fcpo_tsplit)"
   ]
  },
  {
   "cell_type": "code",
   "execution_count": null,
   "metadata": {},
   "outputs": [],
   "source": [
    "rf_lprofit_test_proba=rf_lprofit_rsearch.best_estimator_.predict_proba(fcpo_lprofit_testdata)\n",
    "rf_lprofit_test_predlabels=rf_lprofit_rsearch.best_estimator_.predict(fcpo_lprofit_testdata)\n",
    "#rf_lprofit_test_predlabels=derive_classification_labels(rf_lprofit_test_proba)"
   ]
  },
  {
   "cell_type": "markdown",
   "metadata": {},
   "source": [
    "#### XGBoost"
   ]
  },
  {
   "cell_type": "code",
   "execution_count": null,
   "metadata": {},
   "outputs": [],
   "source": [
    "#xgb_lprofit=xgboost.XGBClassifier(objective='binary:logistic',max_depth=10,n_estimators=500,learning_rate=0.01,gamma=0.01,\n",
    "#                                    subsample=0.8,colsample_bytree=0.8,n_jobs=-1,random_state=333)\n",
    "\n",
    "#xgb_lprofit,xgb_lprofit_cval_scores=buil_cross_validated_model(xgb_lprofit,fcpo_lprofit_traindata,fcpo_lprofit_trainlabels,fcpo_tsplit)"
   ]
  },
  {
   "cell_type": "code",
   "execution_count": null,
   "metadata": {},
   "outputs": [],
   "source": [
    "xgb_lprofit_test_proba=xgb_lprofit_rsearch.best_estimator_.predict_proba(fcpo_lprofit_testdata)\n",
    "xgb_lprofit_test_predlabels=xgb_lprofit_rsearch.best_estimator_.predict(fcpo_lprofit_testdata)\n",
    "#xgb_lprofit_test_predlabels=derive_classification_labels(xgb_lprofit_test_proba)"
   ]
  },
  {
   "cell_type": "markdown",
   "metadata": {},
   "source": [
    "### Short call trading model "
   ]
  },
  {
   "cell_type": "code",
   "execution_count": null,
   "metadata": {},
   "outputs": [],
   "source": [
    "fcpo_sprofit_traindata,fcpo_sprofit_trainlabels,fcpo_sprofit_testdata,fcpo_sprofit_testlabels=build_modeling_data(fcpo_daily_nadjusted,\n",
    "                                        fcpo_nadjusted_feats,'sprofit_ind','2015-01-01','2017-12-31','2018-01-01','2019-01-01')"
   ]
  },
  {
   "cell_type": "code",
   "execution_count": null,
   "metadata": {},
   "outputs": [],
   "source": [
    "sprofit_pipeline = make_pipeline(\n",
    "    FastICA(tol=0.2),\n",
    "    SelectPercentile(score_func=f_classif, percentile=37),\n",
    "    RandomForestClassifier(bootstrap=True, criterion=\"entropy\", max_features=0.1, min_samples_leaf=9, min_samples_split=20, n_estimators=100)\n",
    ")"
   ]
  },
  {
   "cell_type": "code",
   "execution_count": null,
   "metadata": {},
   "outputs": [],
   "source": [
    "sprofit_pipeline.fit(fcpo_sprofit_traindata,np.ravel(fcpo_sprofit_trainlabels))\n",
    "\n",
    "tpot_sprofit_test_predlabels=sprofit_pipeline.predict(fcpo_sprofit_testdata)\n",
    "tpot_sprofit_test_proba=sprofit_pipeline.predict_proba(fcpo_sprofit_testdata)"
   ]
  },
  {
   "cell_type": "code",
   "execution_count": null,
   "metadata": {},
   "outputs": [],
   "source": [
    "%%time\n",
    "rf_sprofit_rsearch=RandomizedSearchCV(RandomForestClassifier(random_state=333,n_jobs=-1),\n",
    "                                      rf_param_dist,cv=fcpo_tsplit,scoring='roc_auc',n_iter=100,n_jobs=-1)\n",
    "\n",
    "rf_sprofit_rsearch=rf_sprofit_rsearch.fit(fcpo_sprofit_traindata,np.ravel(fcpo_sprofit_trainlabels))"
   ]
  },
  {
   "cell_type": "code",
   "execution_count": null,
   "metadata": {},
   "outputs": [],
   "source": [
    "%%time\n",
    "xgb_sprofit_rsearch=RandomizedSearchCV(xgboost.XGBClassifier(random_state=333),\n",
    "                                      xgb_param_dist,cv=fcpo_tsplit,scoring='roc_auc',n_iter=100,n_jobs=-1)\n",
    "\n",
    "xgb_sprofit_rsearch=xgb_sprofit_rsearch.fit(fcpo_sprofit_traindata,np.ravel(fcpo_sprofit_trainlabels))"
   ]
  },
  {
   "cell_type": "markdown",
   "metadata": {},
   "source": [
    "#### Random Forrest"
   ]
  },
  {
   "cell_type": "code",
   "execution_count": null,
   "metadata": {},
   "outputs": [],
   "source": [
    "#rf_sprofit= RandomForestClassifier(n_estimators=300,max_depth=20,min_samples_split=2,\n",
    "#                                  min_samples_leaf=2,criterion='entropy',random_state=333)\n",
    "#rf_sprofit,rf_sprofit_cval_scores=buil_cross_validated_model(rf_sprofit,fcpo_sprofit_traindata,fcpo_sprofit_trainlabels,\n",
    "#                                                                fcpo_tsplit)"
   ]
  },
  {
   "cell_type": "code",
   "execution_count": null,
   "metadata": {},
   "outputs": [],
   "source": [
    "rf_sprofit_test_proba=rf_sprofit_rsearch.best_estimator_.predict_proba(fcpo_sprofit_testdata)\n",
    "rf_sprofit_test_predlabels=rf_sprofit_rsearch.best_estimator_.predict(fcpo_sprofit_testdata)\n",
    "#rf_sprofit_test_predlabels=derive_classification_labels(rf_sprofit_test_proba)"
   ]
  },
  {
   "cell_type": "markdown",
   "metadata": {},
   "source": [
    "### XGBoost"
   ]
  },
  {
   "cell_type": "code",
   "execution_count": null,
   "metadata": {},
   "outputs": [],
   "source": [
    "#xgb_sprofit=xgboost.XGBClassifier(objective='binary:logistic',max_depth=10,n_estimators=500,learning_rate=0.01,gamma=0.01,\n",
    "#                                    subsample=0.8,colsample_bytree=0.8,n_jobs=-1,random_state=333)\n",
    "#xgb_sprofit,xgb_sprofit_cval_scores=buil_cross_validated_model(xgb_sprofit,fcpo_sprofit_traindata,fcpo_sprofit_trainlabels,\n",
    "#                                                                fcpo_tsplit)"
   ]
  },
  {
   "cell_type": "code",
   "execution_count": null,
   "metadata": {},
   "outputs": [],
   "source": [
    "xgb_sprofit_test_proba=xgb_sprofit_rsearch.best_estimator_.predict_proba(fcpo_sprofit_testdata)\n",
    "xgb_sprofit_test_predlabels=xgb_sprofit_rsearch.best_estimator_.predict(fcpo_sprofit_testdata)\n",
    "#xgb_sprofit_test_predlabels=derive_classification_labels(xgb_sprofit_test_proba)"
   ]
  },
  {
   "cell_type": "markdown",
   "metadata": {},
   "source": [
    "## Evaluation of Models"
   ]
  },
  {
   "cell_type": "markdown",
   "metadata": {},
   "source": [
    "### Feature Importance for Long Profit Model"
   ]
  },
  {
   "cell_type": "code",
   "execution_count": null,
   "metadata": {},
   "outputs": [],
   "source": [
    "xgb_lprofit_explainer=shap.TreeExplainer(xgb_lprofit_rsearch.best_estimator_)\n",
    "xgb_lprofit_shapvalues=xgb_lprofit_explainer.shap_values(fcpo_lprofit_traindata)\n",
    "shap.summary_plot(xgb_lprofit_shapvalues,fcpo_lprofit_traindata)"
   ]
  },
  {
   "cell_type": "markdown",
   "metadata": {},
   "source": [
    "### Precision and Recall (Long Profit)"
   ]
  },
  {
   "cell_type": "code",
   "execution_count": null,
   "metadata": {},
   "outputs": [],
   "source": [
    "print(\"RF precision : {pscore}, recall: {rscore} auc:{auc_score}\".format(pscore=round(precision_score(fcpo_lprofit_testlabels,rf_lprofit_test_predlabels),2),\n",
    "                                                     rscore=round(recall_score(fcpo_lprofit_testlabels,rf_lprofit_test_predlabels),2),\n",
    "                                                     auc_score=round(roc_auc_score(fcpo_lprofit_testlabels,rf_lprofit_test_proba[:,1]),2)))"
   ]
  },
  {
   "cell_type": "code",
   "execution_count": null,
   "metadata": {},
   "outputs": [],
   "source": [
    "print(\"XGB precision : {pscore}, recall: {rscore} auc: {auc_score}\".format(pscore=round(precision_score(fcpo_lprofit_testlabels,xgb_lprofit_test_predlabels),2),\n",
    "                                                      rscore=round(recall_score(fcpo_lprofit_testlabels,xgb_lprofit_test_predlabels),2),\n",
    "                                                     auc_score=round(roc_auc_score(fcpo_lprofit_testlabels,xgb_lprofit_test_proba[:,1]),2)))"
   ]
  },
  {
   "cell_type": "code",
   "execution_count": null,
   "metadata": {},
   "outputs": [],
   "source": [
    "print(\"TPOT precision : {pscore}, recall: {rscore} auc: {auc_score}\".format(pscore=round(precision_score(fcpo_lprofit_testlabels,tpot_lprofit_test_predlabels),2),\n",
    "                                                      rscore=round(recall_score(fcpo_lprofit_testlabels,tpot_lprofit_test_predlabels),2),\n",
    "                                                     auc_score=round(roc_auc_score(fcpo_lprofit_testlabels,tpot_lprofit_test_proba[:,1]),2)))"
   ]
  },
  {
   "cell_type": "markdown",
   "metadata": {},
   "source": [
    "### Feature Importance for Short Profit Model"
   ]
  },
  {
   "cell_type": "code",
   "execution_count": null,
   "metadata": {},
   "outputs": [],
   "source": [
    "xgb_sprofit_explainer=shap.TreeExplainer(xgb_sprofit_rsearch.best_estimator_)\n",
    "xgb_sprofit_shapvalues=xgb_sprofit_explainer.shap_values(fcpo_sprofit_traindata)\n",
    "shap.summary_plot(xgb_sprofit_shapvalues,fcpo_sprofit_traindata)"
   ]
  },
  {
   "cell_type": "markdown",
   "metadata": {},
   "source": [
    "### Precision and Recall (Short Profit)"
   ]
  },
  {
   "cell_type": "code",
   "execution_count": null,
   "metadata": {},
   "outputs": [],
   "source": [
    "print(\"RF precision : {pscore}, recall: {rscore} auc:{auc_score}\".format(\n",
    "                                                    pscore=round(precision_score(fcpo_sprofit_testlabels,rf_sprofit_test_predlabels),2),\n",
    "                                                    rscore=round(recall_score(fcpo_sprofit_testlabels,rf_sprofit_test_predlabels),2),\n",
    "                                                    auc_score=round(roc_auc_score(fcpo_sprofit_testlabels,rf_sprofit_test_proba[:,1]),2)))"
   ]
  },
  {
   "cell_type": "code",
   "execution_count": null,
   "metadata": {},
   "outputs": [],
   "source": [
    "print(\"XGB precision : {pscore}, recall: {rscore} auc:{auc_score}\".format(pscore=round(precision_score(fcpo_sprofit_testlabels,xgb_sprofit_test_predlabels),2),\n",
    "                                                      rscore=round(recall_score(fcpo_sprofit_testlabels,xgb_sprofit_test_predlabels),2),\n",
    "                                                     auc_score=round(roc_auc_score(fcpo_sprofit_testlabels,xgb_sprofit_test_proba[:,1]),2)))"
   ]
  },
  {
   "cell_type": "code",
   "execution_count": null,
   "metadata": {},
   "outputs": [],
   "source": [
    "print(\"TPOT precision : {pscore}, recall: {rscore} auc: {auc_score}\".format(pscore=round(precision_score(fcpo_sprofit_testlabels,tpot_sprofit_test_predlabels),2),\n",
    "                                                      rscore=round(recall_score(fcpo_sprofit_testlabels,tpot_sprofit_test_predlabels),2),\n",
    "                                                     auc_score=round(roc_auc_score(fcpo_sprofit_testlabels,tpot_sprofit_test_proba[:,1]),2)))"
   ]
  },
  {
   "cell_type": "markdown",
   "metadata": {},
   "source": [
    "## Financial Metrics\n",
    "\n",
    "The final objective of this study is to improve the ROI, hence we are focused on creating a score-card to measure the investement metrics to select the final model,\n",
    "\n",
    "- Total Returns\n",
    "- Maximum Drawdown\n",
    "- Number of Wins\n",
    "- Number of Losses\n",
    "\n",
    "**Calculation of Returns**\n",
    "\n",
    "* When the sprofit_indicator is true, then return is (open_price - next_low_price) - (commission_price),\n",
    "* Else when the sprofit_indicator is false, the model waits until the end of the day before selling it hence the return is (open_price - next_close_price) - (commission_price)\n"
   ]
  },
  {
   "cell_type": "code",
   "execution_count": null,
   "metadata": {},
   "outputs": [],
   "source": [
    "def calculate_long_returns(x,profit_field,pred_field,commission_price,num_units,profit_thr=0.03,loss_thr=0.01):\n",
    "    return_myr=0\n",
    "    #when the prediction is zero, the model accumulates no returns\n",
    "    if x[pred_field]==0:\n",
    "        return_myr=0\n",
    "    #when the model makes a prediction\n",
    "    elif x[pred_field]==1:\n",
    "        #when it is correct, sell it off when it reaches max x% profit zone\n",
    "        if x[profit_field]==1:\n",
    "            return_myr=((x['Open']*(1+profit_thr)-x['Open'])*num_units)-commission_price\n",
    "        #when it went wrong, sell it off when it reaches x% loss or wait till it reaches eod\n",
    "        elif x[profit_field]==0:\n",
    "            max_loss_val=min(x['Low']-x['Open'],x['next_1low']-x['Open'])\n",
    "            thr_loss_val=(x['Open']*(1-loss_thr))-x['Open']\n",
    "            if max_loss_val < thr_loss_val:\n",
    "                return_myr=thr_loss_val*num_units-commission_price\n",
    "            else:\n",
    "                return_myr= (x['next_1close']-x['Open'])*num_units-commission_price\n",
    "    return return_myr\n",
    "\n",
    "def calculate_short_returns(x,profit_field,pred_field,commission_price,num_units,profit_thr=0.03,loss_thr=0.01):\n",
    "    return_myr=0\n",
    "    #when the prediction is zero, the model accumulates no returns\n",
    "    if x[pred_field]==0:\n",
    "        return_myr=0\n",
    "    #when the model makes a prediction\n",
    "    elif x[pred_field]==1:\n",
    "        if x[profit_field]==1:\n",
    "        #when it is correct, sell it off when it reaches max x% profit zone\n",
    "            return_myr=((x['Open']-x['Open']*(1-profit_thr))*num_units)-commission_price\n",
    "        #when it went wrong, sell it off when it reaches x% loss or wait till it reaches eod\n",
    "        elif x[profit_field]==0:\n",
    "            max_loss_val=min(x['Open']-x['High'],x['Open']-x['next_1high'])\n",
    "            thr_loss_val=x['Open']-(x['Open']*(1+loss_thr))\n",
    "            if max_loss_val < thr_loss_val:\n",
    "                return_myr=thr_loss_val*num_units-commission_price\n",
    "            else:\n",
    "                return_myr=(x['Open']-x['next_1close'])*num_units-commission_price\n",
    "    return return_myr\n",
    "\n",
    "def max_drawdown(X):\n",
    "    mdd = 0\n",
    "    peak = X[0]\n",
    "    mdd_peak=0\n",
    "    mdd_x=0\n",
    "    for x in X:\n",
    "        if x > peak: \n",
    "            peak = x\n",
    "        dd = (peak - x) / peak\n",
    "        if dd > mdd:\n",
    "            mdd = dd\n",
    "            mdd_peak=peak\n",
    "            mdd_x=x\n",
    "    return mdd_peak,mdd_x,mdd"
   ]
  },
  {
   "cell_type": "code",
   "execution_count": null,
   "metadata": {},
   "outputs": [],
   "source": [
    "fcpo_eval_df=fcpo_daily_nadjusted[['Open','High','Low','next_1low','next_1high','next_1close',\n",
    "                             'lprofit_ind','sprofit_ind','lprofit_ind_2pct','sprofit_ind_2pct']].merge(\n",
    "    pd.DataFrame(rf_lprofit_test_predlabels,columns=['rf_lprofit_prediction'],index=fcpo_lprofit_testlabels.index),\n",
    "            left_index=True,right_index=True).merge(\n",
    "    pd.DataFrame(xgb_lprofit_test_predlabels,columns=['xgb_lprofit_prediction'],index=fcpo_lprofit_testlabels.index),\n",
    "            left_index=True,right_index=True).merge(\n",
    "    pd.DataFrame(rf_sprofit_test_predlabels,columns=['rf_sprofit_prediction'],index=fcpo_sprofit_testlabels.index),\n",
    "            left_index=True,right_index=True).merge(\n",
    "    pd.DataFrame(xgb_sprofit_test_predlabels,columns=['xgb_sprofit_prediction'],index=fcpo_sprofit_testlabels.index),\n",
    "            left_index=True,right_index=True).merge(\n",
    "    pd.DataFrame(tpot_lprofit_test_predlabels,columns=['tpot_lprofit_prediction'],index=fcpo_sprofit_testlabels.index),\n",
    "            left_index=True,right_index=True).merge(\n",
    "    pd.DataFrame(tpot_sprofit_test_predlabels,columns=['tpot_sprofit_prediction'],index=fcpo_sprofit_testlabels.index),\n",
    "            left_index=True,right_index=True)"
   ]
  },
  {
   "cell_type": "code",
   "execution_count": null,
   "metadata": {},
   "outputs": [],
   "source": [
    "fcpo_eval_df['lprofit_returns']=fcpo_eval_df.apply(lambda x: calculate_long_returns(x,'lprofit_ind','xgb_lprofit_prediction',60,25,0.0125,0.0125),axis=1)\n",
    "\n",
    "fcpo_eval_df=fcpo_eval_df.assign(cummulative_lprofit_returns=fcpo_eval_df['lprofit_returns'].cumsum())\n",
    "\n",
    "fcpo_eval_df['sprofit_returns']=fcpo_eval_df.apply(lambda x: calculate_short_returns(x,'sprofit_ind','xgb_sprofit_prediction',60,25,0.0125,0.0125),axis=1)\n",
    "fcpo_eval_df=fcpo_eval_df.assign(cummulative_sprofit_returns=fcpo_eval_df['sprofit_returns'].cumsum())\n",
    "\n",
    "fcpo_eval_df=fcpo_eval_df.assign(cummulative_lprofit_returns=fcpo_eval_df['cummulative_lprofit_returns']+10000,\n",
    "            cummulative_sprofit_returns=fcpo_eval_df['cummulative_sprofit_returns']+10000)"
   ]
  },
  {
   "cell_type": "code",
   "execution_count": null,
   "metadata": {},
   "outputs": [],
   "source": [
    "plt.figure(figsize=(15,10))\n",
    "fcpo_eval_df['2017-01-01':'2018-10-01']['cummulative_lprofit_returns'].plot()\n",
    "fcpo_eval_df['2017-01-01':'2018-10-01']['cummulative_sprofit_returns'].plot()\n",
    "(fcpo_eval_df['2017-01-01':'2018-10-01']['cummulative_sprofit_returns']+\n",
    "     fcpo_eval_df['2017-01-01':'2018-10-01']['cummulative_lprofit_returns']).plot()\n",
    "plt.legend(['lprofit','sprofit','total'])"
   ]
  },
  {
   "cell_type": "code",
   "execution_count": null,
   "metadata": {},
   "outputs": [],
   "source": [
    "lprofit_mdd_values=max_drawdown(fcpo_eval_df['2017-01-01':'2018-10-01']['cummulative_lprofit_returns'])\n",
    "\n",
    "sprofit_mdd_values=max_drawdown(fcpo_eval_df['2017-01-01':'2018-10-01']['cummulative_sprofit_returns'])\n",
    "\n",
    "total_mdd_values=max_drawdown(fcpo_eval_df['2017-01-01':'2018-10-01']['cummulative_sprofit_returns']+\n",
    "                     fcpo_eval_df['2017-01-01':'2018-10-01']['cummulative_lprofit_returns'])"
   ]
  },
  {
   "cell_type": "code",
   "execution_count": null,
   "metadata": {},
   "outputs": [],
   "source": [
    "print(\"Long Profit Model MDD:{mdd_value}, from {high_value} to {low_value}\".format(mdd_value=round(lprofit_mdd_values[2],2)*100,\n",
    "                                                                                  high_value=round(lprofit_mdd_values[0]),\n",
    "                                                                                  low_value=round(lprofit_mdd_values[1])))"
   ]
  },
  {
   "cell_type": "code",
   "execution_count": null,
   "metadata": {},
   "outputs": [],
   "source": [
    "print(\"Short Profit Model MDD:{mdd_value}, from {high_value} to {low_value}\".format(mdd_value=round(sprofit_mdd_values[2],2)*100,\n",
    "                                                                                  high_value=round(sprofit_mdd_values[0]),\n",
    "                                                                                  low_value=round(sprofit_mdd_values[1])))"
   ]
  },
  {
   "cell_type": "code",
   "execution_count": null,
   "metadata": {},
   "outputs": [],
   "source": [
    "print(\"Tota MDD:{mdd_value}, from {high_value} to {low_value}\".format(mdd_value=round(total_mdd_values[2],2)*100,\n",
    "                                                                                  high_value=round(total_mdd_values[0]),\n",
    "                                                                                  low_value=round(total_mdd_values[1])))"
   ]
  },
  {
   "cell_type": "markdown",
   "metadata": {},
   "source": [
    "## Auto ML"
   ]
  },
  {
   "cell_type": "code",
   "execution_count": null,
   "metadata": {},
   "outputs": [],
   "source": [
    "import tpot\n",
    "\n",
    "\n",
    "tpot_lclf=tpot.TPOTClassifier(verbosity=2,random_state=333,cv=fcpo_tsplit,scoring='roc_auc',\n",
    "                             generations=50,population_size=50,offspring_size=50)\n",
    "tpot_sclf=tpot.TPOTClassifier(verbosity=2,random_state=333,cv=fcpo_tsplit,scoring='roc_auc',\n",
    "                             generations=50,population_size=50,offspring_size=50)"
   ]
  },
  {
   "cell_type": "code",
   "execution_count": null,
   "metadata": {},
   "outputs": [],
   "source": [
    "fcpo_lprofit_trainlabels=fcpo_lprofit_trainlabels.applymap(lambda x: str(x))\n",
    "fcpo_sprofit_trainlabels=fcpo_sprofit_trainlabels.applymap(lambda x: str(x))"
   ]
  },
  {
   "cell_type": "code",
   "execution_count": null,
   "metadata": {},
   "outputs": [],
   "source": [
    "tpot_sclf.fit(fcpo_sprofit_traindata,fcpo_sprofit_trainlabels['lprofit_ind'])"
   ]
  },
  {
   "cell_type": "code",
   "execution_count": null,
   "metadata": {},
   "outputs": [],
   "source": [
    "tpot_lclf.export('tpot_lclf.py')"
   ]
  },
  {
   "cell_type": "markdown",
   "metadata": {},
   "source": [
    "### Exporting the Trading signal"
   ]
  },
  {
   "cell_type": "code",
   "execution_count": null,
   "metadata": {},
   "outputs": [],
   "source": [
    "def derive_trading_signal(x):\n",
    "    signal='None'\n",
    "    if (x['rf_lprofit_prediction']==1 ) & (x['rf_sprofit_prediction']==0):\n",
    "        signal='Long'\n",
    "    elif(x['rf_lprofit_prediction']==0) & (x['rf_sprofit_prediction']==1):\n",
    "        signal='Short'\n",
    "    else:\n",
    "        signal='None'\n",
    "    return signal\n",
    "\n",
    "trading_signal_df=fcpo_eval_df[['rf_lprofit_prediction','rf_sprofit_prediction']].apply(\n",
    "    lambda x: derive_trading_signal(x),axis=1)\n",
    "\n",
    "trading_signal_df.to_csv('trading_signal_2018.csv')"
   ]
  }
 ],
 "metadata": {
  "hide_input": false,
  "kernelspec": {
   "display_name": "Python 3",
   "language": "python",
   "name": "python3"
  },
  "language_info": {
   "codemirror_mode": {
    "name": "ipython",
    "version": 3
   },
   "file_extension": ".py",
   "mimetype": "text/x-python",
   "name": "python",
   "nbconvert_exporter": "python",
   "pygments_lexer": "ipython3",
   "version": "3.6.6"
  }
 },
 "nbformat": 4,
 "nbformat_minor": 2
}
